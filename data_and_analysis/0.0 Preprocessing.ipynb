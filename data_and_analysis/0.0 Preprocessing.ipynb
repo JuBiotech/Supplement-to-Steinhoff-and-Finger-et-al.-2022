{
 "cells": [
  {
   "cell_type": "markdown",
   "id": "assisted-formula",
   "metadata": {},
   "source": [
    "# Preprocessing\n",
    "Original raw data files are located in `./raw_data`.\n",
    "\n",
    "This notebook transforms the relevant data to Excel sheets in `./processed` using the publicly available `bletl` and our internal packages `retl` package."
   ]
  },
  {
   "cell_type": "code",
   "execution_count": 1,
   "id": "floating-disability",
   "metadata": {},
   "outputs": [],
   "source": [
    "import pandas\n",
    "import pathlib\n",
    "\n",
    "import bletl\n",
    "import retl\n",
    "\n",
    "import models\n",
    "import preprocessing\n",
    "\n",
    "DP_RAW = pathlib.Path(\"raw_data\")\n",
    "DP_PROCESSED = pathlib.Path(\"processed\")"
   ]
  },
  {
   "cell_type": "markdown",
   "id": "contrary-brooklyn",
   "metadata": {},
   "source": [
    "### Glucose calibration data"
   ]
  },
  {
   "cell_type": "code",
   "execution_count": 2,
   "id": "abroad-sister",
   "metadata": {},
   "outputs": [],
   "source": [
    "X, Y = preprocessing.read_glucose_x_y(\n",
    "    fp_dilutions=DP_RAW / \"8EXA1W_dilution_factors_glc.xlsx\",\n",
    "    fp_rdata=DP_RAW / \"8EXA1W_ReaderOutput_0_fresh.xml\",\n",
    "    stock_concentration=50.0,\n",
    ")\n",
    "df = pandas.DataFrame(data=dict(concentration=X, absorbance=Y)).set_index(\n",
    "    \"concentration\"\n",
    ")\n",
    "df.to_excel(DP_PROCESSED / \"glucose_calibration_data.xlsx\")"
   ]
  },
  {
   "cell_type": "markdown",
   "id": "demographic-completion",
   "metadata": {},
   "source": [
    "### Biomass calibration data"
   ]
  },
  {
   "cell_type": "code",
   "execution_count": 3,
   "id": "wrong-paper",
   "metadata": {},
   "outputs": [
    {
     "name": "stdout",
     "output_type": "stream",
     "text": [
      "Run 7MFD4H was performed with a stock of 25.785416666666702 ± 0.15907992837284796 gCDW/L\n",
      "Run 7N3HF5 was performed with a stock of 17.12916666666666 ± 0.17040596950938838 gCDW/L\n"
     ]
    }
   ],
   "source": [
    "df_data = pandas.DataFrame(\n",
    "    columns=[\"data_point\", \"runid\", \"independent\", \"dependent\"]\n",
    ").set_index([\"data_point\"])\n",
    "df_data.head()\n",
    "\n",
    "for runid in [\"7MFD4H\", \"7N3HF5\"]:\n",
    "    # get stock CDW\n",
    "    stock_mean, stock_sem = preprocessing.read_biomass_stock_concentration(\n",
    "        DP_RAW / f\"{runid}_weights_before.csv\",\n",
    "        DP_RAW / f\"{runid}_weights_after.csv\",\n",
    "        eppi_from=7,\n",
    "        eppi_to=12,\n",
    "    )\n",
    "    print(\n",
    "        f\"Run {runid} was performed with a stock of {stock_mean} ± {stock_sem} gCDW/L\"\n",
    "    )\n",
    "\n",
    "    # and the dilution factors from this run\n",
    "    df_dilutions = preprocessing.read_biomass_dilution_factors(\n",
    "        DP_RAW / f\"{runid}_dilution_factors_cdw.xlsx\"\n",
    "    )\n",
    "\n",
    "    independent, dependent = preprocessing.read_biomass_x_and_y(\n",
    "        fp_bldata=DP_RAW / f\"{runid}_Pahpshmir.csv\",\n",
    "        df_dilutions=df_dilutions,\n",
    "        rpm=1400,\n",
    "        filterset=\"BS3\",\n",
    "        stock_concentration=stock_mean,\n",
    "    )\n",
    "    # collect into the DataFrame\n",
    "    for ind, dep in zip(independent, dependent):\n",
    "        df_data.loc[len(df_data)] = (runid, ind, dep)\n",
    "\n",
    "df_data.to_excel(DP_PROCESSED / \"biomass_calibration_data.xlsx\")"
   ]
  },
  {
   "cell_type": "markdown",
   "id": "central-leather",
   "metadata": {},
   "source": [
    "### Cultivation dataset & parameter mapping"
   ]
  },
  {
   "cell_type": "code",
   "execution_count": 4,
   "id": "featured-hours",
   "metadata": {},
   "outputs": [
    {
     "data": {
      "text/plain": [
       "Dataset([('A02', Replicate(Pahpshmir_1400_BS3_CgWT[:1], A365[:1])),\n",
       "         ('A03', Replicate(Pahpshmir_1400_BS3_CgWT[:34], A365[:1])),\n",
       "         ('A04', Replicate(Pahpshmir_1400_BS3_CgWT[:68], A365[:1])),\n",
       "         ('A05', Replicate(Pahpshmir_1400_BS3_CgWT[:101], A365[:1])),\n",
       "         ('A06', Replicate(Pahpshmir_1400_BS3_CgWT[:134], A365[:1])),\n",
       "         ('A07', Replicate(Pahpshmir_1400_BS3_CgWT[:170], A365[:1])),\n",
       "         ('A08', Replicate(Pahpshmir_1400_BS3_CgWT[:201], A365[:1])),\n",
       "         ('B02', Replicate(Pahpshmir_1400_BS3_CgWT[:9], A365[:1])),\n",
       "         ('B03', Replicate(Pahpshmir_1400_BS3_CgWT[:44], A365[:1])),\n",
       "         ('B04', Replicate(Pahpshmir_1400_BS3_CgWT[:76], A365[:1])),\n",
       "         ('B05', Replicate(Pahpshmir_1400_BS3_CgWT[:109], A365[:1])),\n",
       "         ('B06', Replicate(Pahpshmir_1400_BS3_CgWT[:143], A365[:1])),\n",
       "         ('B07', Replicate(Pahpshmir_1400_BS3_CgWT[:176], A365[:1])),\n",
       "         ('B08', Replicate(Pahpshmir_1400_BS3_CgWT[:209], A365[:1])),\n",
       "         ('C02', Replicate(Pahpshmir_1400_BS3_CgWT[:18], A365[:1])),\n",
       "         ('C03', Replicate(Pahpshmir_1400_BS3_CgWT[:51], A365[:1])),\n",
       "         ('C04', Replicate(Pahpshmir_1400_BS3_CgWT[:84], A365[:1])),\n",
       "         ('C05', Replicate(Pahpshmir_1400_BS3_CgWT[:119], A365[:1])),\n",
       "         ('C06', Replicate(Pahpshmir_1400_BS3_CgWT[:151], A365[:1])),\n",
       "         ('C07', Replicate(Pahpshmir_1400_BS3_CgWT[:185], A365[:1])),\n",
       "         ('C08', Replicate(Pahpshmir_1400_BS3_CgWT[:218], A365[:1])),\n",
       "         ('D02', Replicate(Pahpshmir_1400_BS3_CgWT[:26], A365[:1])),\n",
       "         ('D03', Replicate(Pahpshmir_1400_BS3_CgWT[:59], A365[:1])),\n",
       "         ('D04', Replicate(Pahpshmir_1400_BS3_CgWT[:93], A365[:1])),\n",
       "         ('D05', Replicate(Pahpshmir_1400_BS3_CgWT[:126], A365[:1])),\n",
       "         ('D06', Replicate(Pahpshmir_1400_BS3_CgWT[:159], A365[:1])),\n",
       "         ('D07', Replicate(Pahpshmir_1400_BS3_CgWT[:193], A365[:1])),\n",
       "         ('D08', Replicate(Pahpshmir_1400_BS3_CgWT[:226], A365[:1]))])"
      ]
     },
     "execution_count": 4,
     "metadata": {},
     "output_type": "execute_result"
    }
   ],
   "source": [
    "dataset = preprocessing.create_cultivation_dataset()\n",
    "dataset.save(DP_PROCESSED / \"cultivation_dataset.h5\")\n",
    "dataset"
   ]
  },
  {
   "cell_type": "code",
   "execution_count": 5,
   "id": "cooperative-bottom",
   "metadata": {},
   "outputs": [
    {
     "data": {
      "text/html": [
       "<div>\n",
       "<style scoped>\n",
       "    .dataframe tbody tr th:only-of-type {\n",
       "        vertical-align: middle;\n",
       "    }\n",
       "\n",
       "    .dataframe tbody tr th {\n",
       "        vertical-align: top;\n",
       "    }\n",
       "\n",
       "    .dataframe thead th {\n",
       "        text-align: right;\n",
       "    }\n",
       "</style>\n",
       "<table border=\"1\" class=\"dataframe\">\n",
       "  <thead>\n",
       "    <tr style=\"text-align: right;\">\n",
       "      <th></th>\n",
       "      <th>S0</th>\n",
       "      <th>X0</th>\n",
       "      <th>mu_max</th>\n",
       "      <th>K_S</th>\n",
       "      <th>Y_XS</th>\n",
       "    </tr>\n",
       "    <tr>\n",
       "      <th>rid</th>\n",
       "      <th></th>\n",
       "      <th></th>\n",
       "      <th></th>\n",
       "      <th></th>\n",
       "      <th></th>\n",
       "    </tr>\n",
       "  </thead>\n",
       "  <tbody>\n",
       "    <tr>\n",
       "      <th>A02</th>\n",
       "      <td>S0</td>\n",
       "      <td>X0_A02</td>\n",
       "      <td>mu_max</td>\n",
       "      <td>K_S</td>\n",
       "      <td>Y_XS</td>\n",
       "    </tr>\n",
       "    <tr>\n",
       "      <th>A03</th>\n",
       "      <td>S0</td>\n",
       "      <td>X0_A03</td>\n",
       "      <td>mu_max</td>\n",
       "      <td>K_S</td>\n",
       "      <td>Y_XS</td>\n",
       "    </tr>\n",
       "    <tr>\n",
       "      <th>A04</th>\n",
       "      <td>S0</td>\n",
       "      <td>X0_A04</td>\n",
       "      <td>mu_max</td>\n",
       "      <td>K_S</td>\n",
       "      <td>Y_XS</td>\n",
       "    </tr>\n",
       "    <tr>\n",
       "      <th>A05</th>\n",
       "      <td>S0</td>\n",
       "      <td>X0_A05</td>\n",
       "      <td>mu_max</td>\n",
       "      <td>K_S</td>\n",
       "      <td>Y_XS</td>\n",
       "    </tr>\n",
       "    <tr>\n",
       "      <th>A06</th>\n",
       "      <td>S0</td>\n",
       "      <td>X0_A06</td>\n",
       "      <td>mu_max</td>\n",
       "      <td>K_S</td>\n",
       "      <td>Y_XS</td>\n",
       "    </tr>\n",
       "  </tbody>\n",
       "</table>\n",
       "</div>"
      ],
      "text/plain": [
       "     S0      X0  mu_max  K_S  Y_XS\n",
       "rid                               \n",
       "A02  S0  X0_A02  mu_max  K_S  Y_XS\n",
       "A03  S0  X0_A03  mu_max  K_S  Y_XS\n",
       "A04  S0  X0_A04  mu_max  K_S  Y_XS\n",
       "A05  S0  X0_A05  mu_max  K_S  Y_XS\n",
       "A06  S0  X0_A06  mu_max  K_S  Y_XS"
      ]
     },
     "execution_count": 5,
     "metadata": {},
     "output_type": "execute_result"
    }
   ],
   "source": [
    "model = models.MonodModel()\n",
    "\n",
    "df_mapping = pandas.DataFrame(columns=[\"rid\"] + list(model.parameter_names)).set_index(\n",
    "    \"rid\"\n",
    ")\n",
    "for rid in dataset.keys():\n",
    "    df_mapping.loc[rid] = (\"S0\", f\"X0_{rid}\", \"mu_max\", \"K_S\", \"Y_XS\")\n",
    "df_mapping.to_excel(DP_PROCESSED / \"full_parameter_mapping.xlsx\")\n",
    "df_mapping.head()"
   ]
  },
  {
   "cell_type": "code",
   "execution_count": 6,
   "id": "cardiac-underwear",
   "metadata": {},
   "outputs": [
    {
     "name": "stdout",
     "output_type": "stream",
     "text": [
      "Last updated: 2021-12-15T14:48:32.054605+01:00\n",
      "\n",
      "Python implementation: CPython\n",
      "Python version       : 3.7.9\n",
      "IPython version      : 7.24.1\n",
      "\n",
      "Compiler    : MSC v.1916 64 bit (AMD64)\n",
      "OS          : Windows\n",
      "Release     : 10\n",
      "Machine     : AMD64\n",
      "Processor   : Intel64 Family 6 Model 158 Stepping 10, GenuineIntel\n",
      "CPU cores   : 6\n",
      "Architecture: 64bit\n",
      "\n"
     ]
    }
   ],
   "source": [
    "%load_ext watermark\n",
    "%watermark"
   ]
  },
  {
   "cell_type": "code",
   "execution_count": null,
   "id": "continued-programmer",
   "metadata": {},
   "outputs": [],
   "source": []
  }
 ],
 "metadata": {
  "kernelspec": {
   "display_name": "Python 3",
   "language": "python",
   "name": "python3"
  },
  "language_info": {
   "codemirror_mode": {
    "name": "ipython",
    "version": 3
   },
   "file_extension": ".py",
   "mimetype": "text/x-python",
   "name": "python",
   "nbconvert_exporter": "python",
   "pygments_lexer": "ipython3",
   "version": "3.7.9"
  }
 },
 "nbformat": 4,
 "nbformat_minor": 5
}
