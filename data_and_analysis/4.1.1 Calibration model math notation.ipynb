{
 "cells": [
  {
   "cell_type": "markdown",
   "metadata": {},
   "source": [
    "# Description\n",
    "This notebook reparametrizes the asymmetric logistic function in various ways using `sympy`."
   ]
  },
  {
   "cell_type": "code",
   "execution_count": 1,
   "metadata": {},
   "outputs": [],
   "source": [
    "import numpy\n",
    "from matplotlib import pyplot\n",
    "import ipywidgets\n",
    "import sympy\n",
    "from IPython.display import display, Latex\n",
    "import calibr8\n",
    "import models"
   ]
  },
  {
   "cell_type": "code",
   "execution_count": 2,
   "metadata": {},
   "outputs": [],
   "source": [
    "cm_glucose_linear = models.get_glucose_model_linear()\n",
    "cm_glucose = models.get_glucose_model()\n",
    "cm_biomass = models.get_biomass_model()"
   ]
  },
  {
   "cell_type": "code",
   "execution_count": 3,
   "metadata": {},
   "outputs": [],
   "source": [
    "def sympyfied_predict(cm):\n",
    "    theta = [\n",
    "        *sympy.symbols(\" \".join(cm.theta_names[:-1]), real=True),\n",
    "        *[sympy.symbols(\" \".join(cm.theta_names[-1:]), real=True, positive=True),]\n",
    "    ]\n",
    "    x = sympy.symbols(\"x\")\n",
    "\n",
    "    # Replace numpy function that are not sympy-compatible\n",
    "    # with sympy-compatible versions.\n",
    "    calibr8.core.numpy.exp = sympy.exp\n",
    "    calibr8.core.numpy.array = lambda x: x\n",
    "    calibr8.core.numpy.log10 = lambda x: sympy.log(x, 10)\n",
    "    params = cm.predict_dependent(x, theta=theta)\n",
    "    return sympy.simplify(params), theta\n",
    "\n",
    "def cse_paramprint(cm):\n",
    "    params, theta = sympyfied_predict(cm)\n",
    "    full = sympy.Eq(\n",
    "        lhs=sympy.symbols(\"loc scale df\"),\n",
    "        rhs=params,\n",
    "    )\n",
    "    def sgen():\n",
    "        for s in range(0, 100):\n",
    "            yield sympy.Symbol(f\"s_{s}\")\n",
    "\n",
    "    replacements, reduced = sympy.cse(\n",
    "        full,\n",
    "        symbols=sgen()\n",
    "    )\n",
    "    \n",
    "    latex = \"\"\n",
    "    for lhs, rhs in replacements:\n",
    "        v = sympy.Eq(lhs, rhs)\n",
    "        latex += f\"\\n{v._repr_latex_()}\"\n",
    "\n",
    "    for eq in reduced:\n",
    "        for lhs, rhs in zip(eq.lhs, eq.rhs):\n",
    "            v = sympy.Eq(lhs, rhs)\n",
    "            latex += f\"\\n{v._repr_latex_()}\"\n",
    "        \n",
    "    # substitute unnecessary subexpressions\n",
    "    lines = latex.split(\"\\n\")\n",
    "    \n",
    "    for l in reversed(range(0, len(lines))):\n",
    "        line = lines[l]\n",
    "        if line.startswith(r\"$\\displaystyle loc =\"):\n",
    "            lines.pop(l)\n",
    "            pattern = line.split(\" = \")[1].strip(\"$\")\n",
    "            for l, lold in enumerate(lines[:l+1]):\n",
    "                lines[l] = lold.replace(pattern, \"\\mathrm{loc}\")\n",
    "    latex = \"\\n\".join(lines)\n",
    "    \n",
    "    # Add parameter supports\n",
    "    latex += \"\\n\" + \",\".join([p._repr_latex_() for p in theta[:-1]]) + r\" \\in \\mathbb{R}\"\n",
    "    latex += \"\\n\" + theta[-1]._repr_latex_() + r\" \\in \\mathbb{R} > 0\"\n",
    "    \n",
    "    for pattern, text in [\n",
    "        (\"scale\", \"\\mathrm{scale}\"),\n",
    "        (r\"} \\mathrm\", r\"} \\cdot \\mathrm\"),\n",
    "        (\"df\", r\"\\nu\"),\n",
    "        (\"\\displaystyle\", \"\"),\n",
    "        (r\"\\frac{\\log{\\left(x \\right)}}{\\log{\\left(10 \\right)}}\", \"log_{10}(x)\"),\n",
    "    ]:\n",
    "        latex = latex.replace(pattern, text)\n",
    "        \n",
    "    for line in latex.replace(\"$\", \"\").replace(\"=\", \"&=\").replace(\"\\in\", \"&\\in\").split(\"\\n\"):\n",
    "        line = line.strip()\n",
    "        if line:\n",
    "            print(line + r\" \\\\\")\n",
    "    for line in latex.split(\"\\n\"):\n",
    "        display(Latex(line))\n",
    "    return"
   ]
  },
  {
   "cell_type": "code",
   "execution_count": 4,
   "metadata": {
    "scrolled": true
   },
   "outputs": [
    {
     "name": "stdout",
     "output_type": "stream",
     "text": [
      "\\mathrm{loc} &= \\mu_{0} + \\mu_{1} x \\\\\n",
      "\\mathrm{scale} &= \\mathrm{loc} \\cdot \\mathrm{scale}_{1} + \\mathrm{scale}_{0} \\\\\n",
      "\\nu &= \\nu \\\\\n",
      "\\mu_{0}, \\mu_{1}, \\mathrm{scale}_{0}, \\mathrm{scale}_{1} &\\in \\mathbb{R} \\\\\n",
      "\\nu &\\in \\mathbb{R} > 0 \\\\\n"
     ]
    },
    {
     "data": {
      "text/latex": [],
      "text/plain": [
       "<IPython.core.display.Latex object>"
      ]
     },
     "metadata": {},
     "output_type": "display_data"
    },
    {
     "data": {
      "text/latex": [
       "$ \\mathrm{loc} = \\mu_{0} + \\mu_{1} x$"
      ],
      "text/plain": [
       "<IPython.core.display.Latex object>"
      ]
     },
     "metadata": {},
     "output_type": "display_data"
    },
    {
     "data": {
      "text/latex": [
       "$ \\mathrm{scale} = \\mathrm{loc} \\cdot \\mathrm{scale}_{1} + \\mathrm{scale}_{0}$"
      ],
      "text/plain": [
       "<IPython.core.display.Latex object>"
      ]
     },
     "metadata": {},
     "output_type": "display_data"
    },
    {
     "data": {
      "text/latex": [
       "$ \\nu = \\nu$"
      ],
      "text/plain": [
       "<IPython.core.display.Latex object>"
      ]
     },
     "metadata": {},
     "output_type": "display_data"
    },
    {
     "data": {
      "text/latex": [
       "$ \\mu_{0}$,$ \\mu_{1}$,$ \\mathrm{scale}_{0}$,$ \\mathrm{scale}_{1}$ \\in \\mathbb{R}"
      ],
      "text/plain": [
       "<IPython.core.display.Latex object>"
      ]
     },
     "metadata": {},
     "output_type": "display_data"
    },
    {
     "data": {
      "text/latex": [
       "$ \\nu$ \\in \\mathbb{R} > 0"
      ],
      "text/plain": [
       "<IPython.core.display.Latex object>"
      ]
     },
     "metadata": {},
     "output_type": "display_data"
    }
   ],
   "source": [
    "cse_paramprint(cm_glucose_linear)"
   ]
  },
  {
   "cell_type": "code",
   "execution_count": 5,
   "metadata": {},
   "outputs": [
    {
     "name": "stdout",
     "output_type": "stream",
     "text": [
      "s_{0} &= - L_{L} + L_{U} \\\\\n",
      "s_{1} &= e^{c} + 1 \\\\\n",
      "s_{2} &= e^{- c} \\\\\n",
      "s_{3} &= s_{1}^{s_{1} s_{2}} \\\\\n",
      "\\mathrm{loc} &= L_{L} + s_{0} \\left(e^{s_{3} \\left(\\frac{S \\left(I_{x} - x\\right)}{s_{0}} + \\frac{c}{s_{3}}\\right)} + 1\\right)^{- s_{2}} \\\\\n",
      "\\mathrm{scale} &= \\mathrm{loc} \\cdot \\mathrm{scale}_{1} + \\mathrm{scale}_{0} \\\\\n",
      "\\nu &= \\nu \\\\\n",
      "L_{L}, L_{U}, I_{x}, S, c, \\mathrm{scale}_{0}, \\mathrm{scale}_{1} &\\in \\mathbb{R} \\\\\n",
      "\\nu &\\in \\mathbb{R} > 0 \\\\\n"
     ]
    },
    {
     "data": {
      "text/latex": [],
      "text/plain": [
       "<IPython.core.display.Latex object>"
      ]
     },
     "metadata": {},
     "output_type": "display_data"
    },
    {
     "data": {
      "text/latex": [
       "$ s_{0} = - L_{L} + L_{U}$"
      ],
      "text/plain": [
       "<IPython.core.display.Latex object>"
      ]
     },
     "metadata": {},
     "output_type": "display_data"
    },
    {
     "data": {
      "text/latex": [
       "$ s_{1} = e^{c} + 1$"
      ],
      "text/plain": [
       "<IPython.core.display.Latex object>"
      ]
     },
     "metadata": {},
     "output_type": "display_data"
    },
    {
     "data": {
      "text/latex": [
       "$ s_{2} = e^{- c}$"
      ],
      "text/plain": [
       "<IPython.core.display.Latex object>"
      ]
     },
     "metadata": {},
     "output_type": "display_data"
    },
    {
     "data": {
      "text/latex": [
       "$ s_{3} = s_{1}^{s_{1} s_{2}}$"
      ],
      "text/plain": [
       "<IPython.core.display.Latex object>"
      ]
     },
     "metadata": {},
     "output_type": "display_data"
    },
    {
     "data": {
      "text/latex": [
       "$ \\mathrm{loc} = L_{L} + s_{0} \\left(e^{s_{3} \\left(\\frac{S \\left(I_{x} - x\\right)}{s_{0}} + \\frac{c}{s_{3}}\\right)} + 1\\right)^{- s_{2}}$"
      ],
      "text/plain": [
       "<IPython.core.display.Latex object>"
      ]
     },
     "metadata": {},
     "output_type": "display_data"
    },
    {
     "data": {
      "text/latex": [
       "$ \\mathrm{scale} = \\mathrm{loc} \\cdot \\mathrm{scale}_{1} + \\mathrm{scale}_{0}$"
      ],
      "text/plain": [
       "<IPython.core.display.Latex object>"
      ]
     },
     "metadata": {},
     "output_type": "display_data"
    },
    {
     "data": {
      "text/latex": [
       "$ \\nu = \\nu$"
      ],
      "text/plain": [
       "<IPython.core.display.Latex object>"
      ]
     },
     "metadata": {},
     "output_type": "display_data"
    },
    {
     "data": {
      "text/latex": [
       "$ L_{L}$,$ L_{U}$,$ I_{x}$,$ S$,$ c$,$ \\mathrm{scale}_{0}$,$ \\mathrm{scale}_{1}$ \\in \\mathbb{R}"
      ],
      "text/plain": [
       "<IPython.core.display.Latex object>"
      ]
     },
     "metadata": {},
     "output_type": "display_data"
    },
    {
     "data": {
      "text/latex": [
       "$ \\nu$ \\in \\mathbb{R} > 0"
      ],
      "text/plain": [
       "<IPython.core.display.Latex object>"
      ]
     },
     "metadata": {},
     "output_type": "display_data"
    }
   ],
   "source": [
    "cse_paramprint(cm_glucose)"
   ]
  },
  {
   "cell_type": "code",
   "execution_count": 6,
   "metadata": {},
   "outputs": [
    {
     "name": "stdout",
     "output_type": "stream",
     "text": [
      "s_{0} &= - L_{L} + L_{U} \\\\\n",
      "s_{1} &= e^{c} + 1 \\\\\n",
      "s_{2} &= e^{- c} \\\\\n",
      "s_{3} &= s_{1}^{s_{1} s_{2}} \\\\\n",
      "\\mathrm{loc} &= L_{L} + s_{0} \\left(e^{s_{3} \\left(\\frac{S_{log10} \\left(I_{log10(x)} - log_{10}(x)\\right)}{s_{0}} + \\frac{c}{s_{3}}\\right)} + 1\\right)^{- s_{2}} \\\\\n",
      "\\mathrm{scale} &= \\mathrm{loc} \\cdot \\mathrm{scale}_{1} + \\mathrm{scale}_{0} \\\\\n",
      "\\nu &= \\nu \\\\\n",
      "L_{L}, L_{U}, I_{log10(x)}, S_{log10}, c, \\mathrm{scale}_{0}, \\mathrm{scale}_{1} &\\in \\mathbb{R} \\\\\n",
      "\\nu &\\in \\mathbb{R} > 0 \\\\\n"
     ]
    },
    {
     "data": {
      "text/latex": [],
      "text/plain": [
       "<IPython.core.display.Latex object>"
      ]
     },
     "metadata": {},
     "output_type": "display_data"
    },
    {
     "data": {
      "text/latex": [
       "$ s_{0} = - L_{L} + L_{U}$"
      ],
      "text/plain": [
       "<IPython.core.display.Latex object>"
      ]
     },
     "metadata": {},
     "output_type": "display_data"
    },
    {
     "data": {
      "text/latex": [
       "$ s_{1} = e^{c} + 1$"
      ],
      "text/plain": [
       "<IPython.core.display.Latex object>"
      ]
     },
     "metadata": {},
     "output_type": "display_data"
    },
    {
     "data": {
      "text/latex": [
       "$ s_{2} = e^{- c}$"
      ],
      "text/plain": [
       "<IPython.core.display.Latex object>"
      ]
     },
     "metadata": {},
     "output_type": "display_data"
    },
    {
     "data": {
      "text/latex": [
       "$ s_{3} = s_{1}^{s_{1} s_{2}}$"
      ],
      "text/plain": [
       "<IPython.core.display.Latex object>"
      ]
     },
     "metadata": {},
     "output_type": "display_data"
    },
    {
     "data": {
      "text/latex": [
       "$ \\mathrm{loc} = L_{L} + s_{0} \\left(e^{s_{3} \\left(\\frac{S_{log10} \\left(I_{log10(x)} - log_{10}(x)\\right)}{s_{0}} + \\frac{c}{s_{3}}\\right)} + 1\\right)^{- s_{2}}$"
      ],
      "text/plain": [
       "<IPython.core.display.Latex object>"
      ]
     },
     "metadata": {},
     "output_type": "display_data"
    },
    {
     "data": {
      "text/latex": [
       "$ \\mathrm{scale} = \\mathrm{loc} \\cdot \\mathrm{scale}_{1} + \\mathrm{scale}_{0}$"
      ],
      "text/plain": [
       "<IPython.core.display.Latex object>"
      ]
     },
     "metadata": {},
     "output_type": "display_data"
    },
    {
     "data": {
      "text/latex": [
       "$ \\nu = \\nu$"
      ],
      "text/plain": [
       "<IPython.core.display.Latex object>"
      ]
     },
     "metadata": {},
     "output_type": "display_data"
    },
    {
     "data": {
      "text/latex": [
       "$ L_{L}$,$ L_{U}$,$ I_{log10(x)}$,$ S_{log10}$,$ c$,$ \\mathrm{scale}_{0}$,$ \\mathrm{scale}_{1}$ \\in \\mathbb{R}"
      ],
      "text/plain": [
       "<IPython.core.display.Latex object>"
      ]
     },
     "metadata": {},
     "output_type": "display_data"
    },
    {
     "data": {
      "text/latex": [
       "$ \\nu$ \\in \\mathbb{R} > 0"
      ],
      "text/plain": [
       "<IPython.core.display.Latex object>"
      ]
     },
     "metadata": {},
     "output_type": "display_data"
    }
   ],
   "source": [
    "['L_L', 'L_U', 'log_I_x', 'S', 'c', 'scale_0', 'scale_1', 'df']\n",
    "cm_biomass.theta_names = ['L_L', 'L_U', 'I_{log10(x)}', 'S_log10', 'c', 'scale_0', 'scale_1', 'df']\n",
    "cse_paramprint(cm_biomass)"
   ]
  },
  {
   "cell_type": "code",
   "execution_count": 7,
   "metadata": {},
   "outputs": [
    {
     "name": "stdout",
     "output_type": "stream",
     "text": [
      "Last updated: 2021-11-25T14:36:53.660108+01:00\n",
      "\n",
      "Python implementation: CPython\n",
      "Python version       : 3.7.9\n",
      "IPython version      : 7.24.1\n",
      "\n",
      "Compiler    : MSC v.1916 64 bit (AMD64)\n",
      "OS          : Windows\n",
      "Release     : 10\n",
      "Machine     : AMD64\n",
      "Processor   : Intel64 Family 6 Model 158 Stepping 10, GenuineIntel\n",
      "CPU cores   : 6\n",
      "Architecture: 64bit\n",
      "\n"
     ]
    }
   ],
   "source": [
    "%load_ext watermark\n",
    "%watermark"
   ]
  }
 ],
 "metadata": {
  "kernelspec": {
   "display_name": "Python 3",
   "language": "python",
   "name": "python3"
  },
  "language_info": {
   "codemirror_mode": {
    "name": "ipython",
    "version": 3
   },
   "file_extension": ".py",
   "mimetype": "text/x-python",
   "name": "python",
   "nbconvert_exporter": "python",
   "pygments_lexer": "ipython3",
   "version": "3.7.9"
  },
  "widgets": {
   "application/vnd.jupyter.widget-state+json": {
    "state": {
     "00040f0934ea48d5bf7fe932ed2c4410": {
      "model_module": "@jupyter-widgets/base",
      "model_module_version": "1.2.0",
      "model_name": "LayoutModel",
      "state": {}
     },
     "01aa18713d024ec0933942bcb05c33ac": {
      "model_module": "@jupyter-widgets/base",
      "model_module_version": "1.2.0",
      "model_name": "LayoutModel",
      "state": {}
     },
     "0375134cf091496b8d0ed5ee1fc2e905": {
      "model_module": "@jupyter-widgets/controls",
      "model_module_version": "1.5.0",
      "model_name": "FloatSliderModel",
      "state": {
       "description": "L_L",
       "layout": "IPY_MODEL_51c8ac8cb50c45a39cf6e8d42210206a",
       "max": 0,
       "min": -5,
       "step": 0.1,
       "style": "IPY_MODEL_ab54b11b9e744b14a5dbd8bc302b1ff1"
      }
     },
     "0387bd3931a046e7b9ee1bec6a8ee827": {
      "model_module": "@jupyter-widgets/base",
      "model_module_version": "1.2.0",
      "model_name": "LayoutModel",
      "state": {}
     },
     "05740e7176334614b892fa882b00f189": {
      "model_module": "@jupyter-widgets/controls",
      "model_module_version": "1.5.0",
      "model_name": "SliderStyleModel",
      "state": {
       "description_width": ""
      }
     },
     "073f026b3d5e4c47b04f5346d24c750d": {
      "model_module": "@jupyter-widgets/controls",
      "model_module_version": "1.5.0",
      "model_name": "FloatSliderModel",
      "state": {
       "description": "b",
       "layout": "IPY_MODEL_43fa7955b928496481c1551133a29212",
       "max": 3,
       "min": -1,
       "step": 0.1,
       "style": "IPY_MODEL_b19ba881e612453f82eb599caf44b512",
       "value": 2
      }
     },
     "0776996b13c2402b9939f1032c1daba7": {
      "model_module": "@jupyter-widgets/base",
      "model_module_version": "1.2.0",
      "model_name": "LayoutModel",
      "state": {}
     },
     "087ec23bde8547a4b18fc5e12548ef82": {
      "model_module": "@jupyter-widgets/controls",
      "model_module_version": "1.5.0",
      "model_name": "FloatSliderModel",
      "state": {
       "description": "L_U",
       "layout": "IPY_MODEL_7930632f61854a03b312953e1ef24b89",
       "max": 5,
       "step": 0.1,
       "style": "IPY_MODEL_a581cd6d585949d7a6277525597a8bca",
       "value": 1
      }
     },
     "08ee25c619314d35a956ae61373b158e": {
      "model_module": "@jupyter-widgets/controls",
      "model_module_version": "1.5.0",
      "model_name": "FloatSliderModel",
      "state": {
       "description": "L_L",
       "layout": "IPY_MODEL_51d4913a5c22416dbc46d244de9ebd1a",
       "max": 0,
       "min": -5,
       "step": 0.1,
       "style": "IPY_MODEL_6a7fec68598046f69e8ccfd2f97710f5"
      }
     },
     "096a4d34cffc4660a0556bee189074fa": {
      "model_module": "@jupyter-widgets/base",
      "model_module_version": "1.2.0",
      "model_name": "LayoutModel",
      "state": {}
     },
     "09ebd883fbd54c3dbee66d3c691c86d8": {
      "model_module": "@jupyter-widgets/base",
      "model_module_version": "1.2.0",
      "model_name": "LayoutModel",
      "state": {}
     },
     "0b534dca1ccc4cc6a3ab4fe10025ae76": {
      "model_module": "@jupyter-widgets/base",
      "model_module_version": "1.2.0",
      "model_name": "LayoutModel",
      "state": {}
     },
     "1077446e572c447aa6a4d59231af1f11": {
      "model_module": "@jupyter-widgets/controls",
      "model_module_version": "1.5.0",
      "model_name": "FloatSliderModel",
      "state": {
       "description": "L_U",
       "layout": "IPY_MODEL_2c8b8419786246cbac92481223d674b9",
       "max": 5,
       "step": 0.1,
       "style": "IPY_MODEL_8a6112423eb34615a340ee6fa4262b46",
       "value": 1
      }
     },
     "110ea236b0c445dba4728402f297788f": {
      "model_module": "@jupyter-widgets/base",
      "model_module_version": "1.2.0",
      "model_name": "LayoutModel",
      "state": {}
     },
     "1afafc85b2064a6f857b8cb83d5059ee": {
      "model_module": "@jupyter-widgets/base",
      "model_module_version": "1.2.0",
      "model_name": "LayoutModel",
      "state": {}
     },
     "1b8a893bae3e4d10bab75ea4c889236e": {
      "model_module": "@jupyter-widgets/base",
      "model_module_version": "1.2.0",
      "model_name": "LayoutModel",
      "state": {}
     },
     "1c41f846ed2d4ab497bb3c79a820534f": {
      "model_module": "@jupyter-widgets/output",
      "model_module_version": "1.0.0",
      "model_name": "OutputModel",
      "state": {
       "layout": "IPY_MODEL_2d7e809f442842bcb4b293a6ebb0f9a3",
       "outputs": [
        {
         "data": {
          "image/png": "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\n",
          "text/plain": "<Figure size 1152x432 with 1 Axes>"
         },
         "metadata": {
          "needs_background": "light"
         },
         "output_type": "display_data"
        }
       ]
      }
     },
     "1e1946fa81eb4f189e76c9ebd8bde56c": {
      "model_module": "@jupyter-widgets/output",
      "model_module_version": "1.0.0",
      "model_name": "OutputModel",
      "state": {
       "layout": "IPY_MODEL_ff1b589551e74eafb1e2e9baa467aa59",
       "outputs": [
        {
         "data": {
          "image/png": "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\n",
          "text/plain": "<Figure size 1152x432 with 1 Axes>"
         },
         "metadata": {
          "needs_background": "light"
         },
         "output_type": "display_data"
        }
       ]
      }
     },
     "1e995a4641ea455a9fbe0b21e6106772": {
      "model_module": "@jupyter-widgets/controls",
      "model_module_version": "1.5.0",
      "model_name": "VBoxModel",
      "state": {
       "_dom_classes": [
        "widget-interact"
       ],
       "children": [
        "IPY_MODEL_634df38a2ff945929f158093c5ab81e5",
        "IPY_MODEL_1077446e572c447aa6a4d59231af1f11",
        "IPY_MODEL_2a7acaafd7e5491c815f1667c906d4a8",
        "IPY_MODEL_40d688ec3ec84bb298d7650af90ac47c",
        "IPY_MODEL_25818e92619c4a19a7ee8d3c718afb7d",
        "IPY_MODEL_25dac40a411642388d0b2949c0fd9c7a"
       ],
       "layout": "IPY_MODEL_669f038468da4a2bbea73bd81bf84b04"
      }
     },
     "1eb9f525795b498487cf1bdc9d52333e": {
      "model_module": "@jupyter-widgets/controls",
      "model_module_version": "1.5.0",
      "model_name": "SliderStyleModel",
      "state": {
       "description_width": ""
      }
     },
     "1efffc3cea904aed843b98decf90069c": {
      "model_module": "@jupyter-widgets/controls",
      "model_module_version": "1.5.0",
      "model_name": "FloatSliderModel",
      "state": {
       "description": "L_L",
       "layout": "IPY_MODEL_2d6c0dea43b646a7868fe188e5549d18",
       "max": 0,
       "min": -5,
       "step": 0.1,
       "style": "IPY_MODEL_6923ff306a3142728dbfa69a7467db98"
      }
     },
     "22137513e0154ea6bc072609d9a92111": {
      "model_module": "@jupyter-widgets/base",
      "model_module_version": "1.2.0",
      "model_name": "LayoutModel",
      "state": {}
     },
     "2325efb46ade49108817226fc6a9a1f0": {
      "model_module": "@jupyter-widgets/controls",
      "model_module_version": "1.5.0",
      "model_name": "FloatSliderModel",
      "state": {
       "description": "L_U",
       "layout": "IPY_MODEL_941280f1229d4f78bd0d2795845dce8a",
       "max": 5,
       "step": 0.1,
       "style": "IPY_MODEL_61f6793c1a95445f8c8cabce58132307",
       "value": 1
      }
     },
     "24487b1cf1504ba4be94b39c79f5dbdf": {
      "model_module": "@jupyter-widgets/base",
      "model_module_version": "1.2.0",
      "model_name": "LayoutModel",
      "state": {}
     },
     "2486cc39c54149b3a671c5fbb14e08fb": {
      "model_module": "@jupyter-widgets/base",
      "model_module_version": "1.2.0",
      "model_name": "LayoutModel",
      "state": {}
     },
     "2563875e10a341689295ad195ed86651": {
      "model_module": "@jupyter-widgets/controls",
      "model_module_version": "1.5.0",
      "model_name": "FloatSliderModel",
      "state": {
       "description": "c",
       "layout": "IPY_MODEL_7c7be9f709854e3995d12500eae022cc",
       "max": 2,
       "min": -2,
       "step": 0.1,
       "style": "IPY_MODEL_480f52bf62b24d0588a59e2b3728716f",
       "value": 1
      }
     },
     "25779dea8df04f55a5bce3398ad06367": {
      "model_module": "@jupyter-widgets/base",
      "model_module_version": "1.2.0",
      "model_name": "LayoutModel",
      "state": {}
     },
     "25818e92619c4a19a7ee8d3c718afb7d": {
      "model_module": "@jupyter-widgets/controls",
      "model_module_version": "1.5.0",
      "model_name": "FloatSliderModel",
      "state": {
       "description": "c",
       "layout": "IPY_MODEL_3ae18cb728fa4e229937f7331a2c369f",
       "max": 2,
       "min": -2,
       "step": 0.1,
       "style": "IPY_MODEL_fc39fcb8fe0a4456b49ebe1d8e80c8c4",
       "value": 1
      }
     },
     "25dac40a411642388d0b2949c0fd9c7a": {
      "model_module": "@jupyter-widgets/output",
      "model_module_version": "1.0.0",
      "model_name": "OutputModel",
      "state": {
       "layout": "IPY_MODEL_e24feecb859e4a8bb5f5a588dc9ed4eb",
       "outputs": [
        {
         "data": {
          "image/png": "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\n",
          "text/plain": "<Figure size 1152x432 with 1 Axes>"
         },
         "metadata": {
          "needs_background": "light"
         },
         "output_type": "display_data"
        }
       ]
      }
     },
     "2781a5d1f2034ebd88a377a67875ed92": {
      "model_module": "@jupyter-widgets/controls",
      "model_module_version": "1.5.0",
      "model_name": "FloatSliderModel",
      "state": {
       "description": "a",
       "layout": "IPY_MODEL_1b8a893bae3e4d10bab75ea4c889236e",
       "max": 5,
       "min": -5,
       "step": 0.1,
       "style": "IPY_MODEL_f16b3148ad3c49ec90e9f9dd139914bf"
      }
     },
     "294731c323e744db9e4f452cf3934073": {
      "model_module": "@jupyter-widgets/base",
      "model_module_version": "1.2.0",
      "model_name": "LayoutModel",
      "state": {}
     },
     "2a7acaafd7e5491c815f1667c906d4a8": {
      "model_module": "@jupyter-widgets/controls",
      "model_module_version": "1.5.0",
      "model_name": "FloatSliderModel",
      "state": {
       "description": "a",
       "layout": "IPY_MODEL_60b0982b33cb4c29b94afec498f108e2",
       "max": 5,
       "min": -5,
       "step": 0.1,
       "style": "IPY_MODEL_40014a153fc942cc8adfe659bf91bbcc"
      }
     },
     "2c5e44ed5b714f01949b6dd6c5f58b2d": {
      "model_module": "@jupyter-widgets/base",
      "model_module_version": "1.2.0",
      "model_name": "LayoutModel",
      "state": {}
     },
     "2c8b8419786246cbac92481223d674b9": {
      "model_module": "@jupyter-widgets/base",
      "model_module_version": "1.2.0",
      "model_name": "LayoutModel",
      "state": {}
     },
     "2d6c0dea43b646a7868fe188e5549d18": {
      "model_module": "@jupyter-widgets/base",
      "model_module_version": "1.2.0",
      "model_name": "LayoutModel",
      "state": {}
     },
     "2d7e809f442842bcb4b293a6ebb0f9a3": {
      "model_module": "@jupyter-widgets/base",
      "model_module_version": "1.2.0",
      "model_name": "LayoutModel",
      "state": {}
     },
     "2ee58955357d4f458e76f09fb95b5899": {
      "model_module": "@jupyter-widgets/controls",
      "model_module_version": "1.5.0",
      "model_name": "SliderStyleModel",
      "state": {
       "description_width": ""
      }
     },
     "300d132be9f342d48af431dd5a1b9e3f": {
      "model_module": "@jupyter-widgets/base",
      "model_module_version": "1.2.0",
      "model_name": "LayoutModel",
      "state": {}
     },
     "313d27a464954e9ebed18e5b3782c47d": {
      "model_module": "@jupyter-widgets/controls",
      "model_module_version": "1.5.0",
      "model_name": "FloatSliderModel",
      "state": {
       "description": "L_U",
       "layout": "IPY_MODEL_e10fec79a85744e086d81c09cd484400",
       "max": 5,
       "step": 0.1,
       "style": "IPY_MODEL_49201be9ead64948b0c44d66727abca4",
       "value": 1
      }
     },
     "32e0ed06105449a0b7b79e4afb788d22": {
      "model_module": "@jupyter-widgets/base",
      "model_module_version": "1.2.0",
      "model_name": "LayoutModel",
      "state": {}
     },
     "32e1124b4535406aa3f22e15cc7f66b7": {
      "model_module": "@jupyter-widgets/controls",
      "model_module_version": "1.5.0",
      "model_name": "VBoxModel",
      "state": {
       "_dom_classes": [
        "widget-interact"
       ],
       "children": [
        "IPY_MODEL_08ee25c619314d35a956ae61373b158e",
        "IPY_MODEL_087ec23bde8547a4b18fc5e12548ef82",
        "IPY_MODEL_5d36a2e8dafb42f3844e52c91ae05d04",
        "IPY_MODEL_7bff2b08aaf54b2ca203ebd86fef92ab",
        "IPY_MODEL_68c7d97b691346e991342fd0cb6918a6",
        "IPY_MODEL_1e1946fa81eb4f189e76c9ebd8bde56c"
       ],
       "layout": "IPY_MODEL_8eab72167d9f4cd5a3161551c6b49772"
      }
     },
     "32f3263944834a38981ae25d69727003": {
      "model_module": "@jupyter-widgets/controls",
      "model_module_version": "1.5.0",
      "model_name": "SliderStyleModel",
      "state": {
       "description_width": ""
      }
     },
     "33f199c4547343169b51b519df88e71a": {
      "model_module": "@jupyter-widgets/base",
      "model_module_version": "1.2.0",
      "model_name": "LayoutModel",
      "state": {}
     },
     "343bb812786c4167930eaad7f136c21c": {
      "model_module": "@jupyter-widgets/controls",
      "model_module_version": "1.5.0",
      "model_name": "FloatSliderModel",
      "state": {
       "description": "L_U",
       "layout": "IPY_MODEL_0b534dca1ccc4cc6a3ab4fe10025ae76",
       "max": 5,
       "step": 0.1,
       "style": "IPY_MODEL_f1b645693f4b4cee8f31a4562af6fdcd",
       "value": 1
      }
     },
     "3637887fde3b46b89fd5a3d5bc7176dc": {
      "model_module": "@jupyter-widgets/controls",
      "model_module_version": "1.5.0",
      "model_name": "SliderStyleModel",
      "state": {
       "description_width": ""
      }
     },
     "365ea85db3d7488ba9bd49f61861af9e": {
      "model_module": "@jupyter-widgets/controls",
      "model_module_version": "1.5.0",
      "model_name": "VBoxModel",
      "state": {
       "_dom_classes": [
        "widget-interact"
       ],
       "children": [
        "IPY_MODEL_3f61845ba4074cd8ad3c552f74d5a6ee",
        "IPY_MODEL_bdcf978361bc41e48ad40fdf30eed17b",
        "IPY_MODEL_d2e824bb9c9b4aefb1f9142a2930fc46",
        "IPY_MODEL_dadd7b6cbd9748818e92bbcb82e9a18e",
        "IPY_MODEL_834e9bff56584102887ef5115cc6043c",
        "IPY_MODEL_cca9c66cce32465782ab67fc7612d30a"
       ],
       "layout": "IPY_MODEL_a1a07a80cb7e44b284c06d6f282f62eb"
      }
     },
     "37ceb65f48a7499d823c02553f70cc29": {
      "model_module": "@jupyter-widgets/base",
      "model_module_version": "1.2.0",
      "model_name": "LayoutModel",
      "state": {}
     },
     "39a35e294d104a02aef072a2e948b71c": {
      "model_module": "@jupyter-widgets/controls",
      "model_module_version": "1.5.0",
      "model_name": "SliderStyleModel",
      "state": {
       "description_width": ""
      }
     },
     "3a52134a639f4cb6a12560363f953c09": {
      "model_module": "@jupyter-widgets/output",
      "model_module_version": "1.0.0",
      "model_name": "OutputModel",
      "state": {
       "layout": "IPY_MODEL_09ebd883fbd54c3dbee66d3c691c86d8",
       "outputs": [
        {
         "data": {
          "image/png": "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\n",
          "text/plain": "<Figure size 1152x432 with 1 Axes>"
         },
         "metadata": {
          "needs_background": "light"
         },
         "output_type": "display_data"
        }
       ]
      }
     },
     "3ae18cb728fa4e229937f7331a2c369f": {
      "model_module": "@jupyter-widgets/base",
      "model_module_version": "1.2.0",
      "model_name": "LayoutModel",
      "state": {}
     },
     "3b4f0e188db54903b9ab45f867a74378": {
      "model_module": "@jupyter-widgets/controls",
      "model_module_version": "1.5.0",
      "model_name": "FloatSliderModel",
      "state": {
       "description": "I_x",
       "layout": "IPY_MODEL_110ea236b0c445dba4728402f297788f",
       "max": 5,
       "min": -5,
       "step": 0.1,
       "style": "IPY_MODEL_2ee58955357d4f458e76f09fb95b5899"
      }
     },
     "3b50a4140dcd441bbc0783545f47fd17": {
      "model_module": "@jupyter-widgets/base",
      "model_module_version": "1.2.0",
      "model_name": "LayoutModel",
      "state": {}
     },
     "3b683b38982b4466bb0c02bb0ca09925": {
      "model_module": "@jupyter-widgets/controls",
      "model_module_version": "1.5.0",
      "model_name": "SliderStyleModel",
      "state": {
       "description_width": ""
      }
     },
     "3c7c60404b614c829f7e8f87224d0e5c": {
      "model_module": "@jupyter-widgets/output",
      "model_module_version": "1.0.0",
      "model_name": "OutputModel",
      "state": {
       "layout": "IPY_MODEL_3e5918eae45d466f8d4b4fd0704033e3",
       "outputs": [
        {
         "data": {
          "image/png": "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\n",
          "text/plain": "<Figure size 1152x432 with 1 Axes>"
         },
         "metadata": {
          "needs_background": "light"
         },
         "output_type": "display_data"
        }
       ]
      }
     },
     "3e5918eae45d466f8d4b4fd0704033e3": {
      "model_module": "@jupyter-widgets/base",
      "model_module_version": "1.2.0",
      "model_name": "LayoutModel",
      "state": {}
     },
     "3ea9e190dd0844139e53600ea8c1258c": {
      "model_module": "@jupyter-widgets/controls",
      "model_module_version": "1.5.0",
      "model_name": "FloatSliderModel",
      "state": {
       "description": "L_U",
       "layout": "IPY_MODEL_9d8be055c2c14f00b745b9496c09387b",
       "max": 5,
       "step": 0.1,
       "style": "IPY_MODEL_60f5e8291ae249438071dd70fb0c5efd",
       "value": 1
      }
     },
     "3f61845ba4074cd8ad3c552f74d5a6ee": {
      "model_module": "@jupyter-widgets/controls",
      "model_module_version": "1.5.0",
      "model_name": "FloatSliderModel",
      "state": {
       "description": "L_L",
       "layout": "IPY_MODEL_5a858d10df4d4498a6652c81f0ede1db",
       "max": 0,
       "min": -5,
       "step": 0.1,
       "style": "IPY_MODEL_32f3263944834a38981ae25d69727003"
      }
     },
     "40014a153fc942cc8adfe659bf91bbcc": {
      "model_module": "@jupyter-widgets/controls",
      "model_module_version": "1.5.0",
      "model_name": "SliderStyleModel",
      "state": {
       "description_width": ""
      }
     },
     "40d688ec3ec84bb298d7650af90ac47c": {
      "model_module": "@jupyter-widgets/controls",
      "model_module_version": "1.5.0",
      "model_name": "FloatSliderModel",
      "state": {
       "description": "b",
       "layout": "IPY_MODEL_7b6fe02ae2c74cfa9440bd88a9228c24",
       "max": 3,
       "min": -1,
       "step": 0.1,
       "style": "IPY_MODEL_8711f4a8824440caa27d84e15f13fca2",
       "value": 3
      }
     },
     "415ba4dc4dd144479e3b15b4e684bbcc": {
      "model_module": "@jupyter-widgets/controls",
      "model_module_version": "1.5.0",
      "model_name": "FloatSliderModel",
      "state": {
       "description": "L_U",
       "layout": "IPY_MODEL_d79f717b55f8454aad1815af1a0da45e",
       "max": 5,
       "step": 0.1,
       "style": "IPY_MODEL_7c0b11beccd444709c8da63012f10b27",
       "value": 1
      }
     },
     "43fa7955b928496481c1551133a29212": {
      "model_module": "@jupyter-widgets/base",
      "model_module_version": "1.2.0",
      "model_name": "LayoutModel",
      "state": {}
     },
     "444f9194cf4344fcbee48a8d5afd2c3f": {
      "model_module": "@jupyter-widgets/base",
      "model_module_version": "1.2.0",
      "model_name": "LayoutModel",
      "state": {}
     },
     "46bfa97d1ba64b2fb4947fdd4b1bf12f": {
      "model_module": "@jupyter-widgets/controls",
      "model_module_version": "1.5.0",
      "model_name": "VBoxModel",
      "state": {
       "_dom_classes": [
        "widget-interact"
       ],
       "children": [
        "IPY_MODEL_0375134cf091496b8d0ed5ee1fc2e905",
        "IPY_MODEL_313d27a464954e9ebed18e5b3782c47d",
        "IPY_MODEL_aecb164ed283451d9926579f3de73cc6",
        "IPY_MODEL_fe1b5db1e440429f9142467c188ebd56",
        "IPY_MODEL_5d5dd36f11c445bdb3e79ed104a8b2df",
        "IPY_MODEL_fe4d73454fdc4889b58c16e5e816aa94"
       ],
       "layout": "IPY_MODEL_a086a1b2a01e4977a3e888b0edad1a6f"
      }
     },
     "46c9b1e6ee3741cb99d8bc78555c66e7": {
      "model_module": "@jupyter-widgets/base",
      "model_module_version": "1.2.0",
      "model_name": "LayoutModel",
      "state": {}
     },
     "47568b4c225e4c89ac54ff29271e0df5": {
      "model_module": "@jupyter-widgets/controls",
      "model_module_version": "1.5.0",
      "model_name": "SliderStyleModel",
      "state": {
       "description_width": ""
      }
     },
     "480f52bf62b24d0588a59e2b3728716f": {
      "model_module": "@jupyter-widgets/controls",
      "model_module_version": "1.5.0",
      "model_name": "SliderStyleModel",
      "state": {
       "description_width": ""
      }
     },
     "488d337c026c423d826795b4c0c69256": {
      "model_module": "@jupyter-widgets/controls",
      "model_module_version": "1.5.0",
      "model_name": "SliderStyleModel",
      "state": {
       "description_width": ""
      }
     },
     "49201be9ead64948b0c44d66727abca4": {
      "model_module": "@jupyter-widgets/controls",
      "model_module_version": "1.5.0",
      "model_name": "SliderStyleModel",
      "state": {
       "description_width": ""
      }
     },
     "49e7412fb21a4cf1a036e5c3ed42a0e6": {
      "model_module": "@jupyter-widgets/base",
      "model_module_version": "1.2.0",
      "model_name": "LayoutModel",
      "state": {}
     },
     "4b4fea1a94194d69a809ea58d925f23b": {
      "model_module": "@jupyter-widgets/output",
      "model_module_version": "1.0.0",
      "model_name": "OutputModel",
      "state": {
       "layout": "IPY_MODEL_d62d4cd1870842eb971527e8f3580818",
       "outputs": [
        {
         "data": {
          "image/png": "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\n",
          "text/plain": "<Figure size 1152x432 with 1 Axes>"
         },
         "metadata": {
          "needs_background": "light"
         },
         "output_type": "display_data"
        }
       ]
      }
     },
     "4b7672e3a28f45f4bbb75a1ed53cefd3": {
      "model_module": "@jupyter-widgets/base",
      "model_module_version": "1.2.0",
      "model_name": "LayoutModel",
      "state": {}
     },
     "4c7950d8c22d4340b8ce7ad7abe15c87": {
      "model_module": "@jupyter-widgets/base",
      "model_module_version": "1.2.0",
      "model_name": "LayoutModel",
      "state": {}
     },
     "4e8f3eb5971c40dda6fe1e1fbdcdcf69": {
      "model_module": "@jupyter-widgets/controls",
      "model_module_version": "1.5.0",
      "model_name": "FloatSliderModel",
      "state": {
       "description": "L_L",
       "layout": "IPY_MODEL_24487b1cf1504ba4be94b39c79f5dbdf",
       "max": 0,
       "min": -5,
       "step": 0.1,
       "style": "IPY_MODEL_70858f35c30f4c56aab7dd6c039dfcc6"
      }
     },
     "4f2641b7bd7940b1b12b28b457b7fead": {
      "model_module": "@jupyter-widgets/controls",
      "model_module_version": "1.5.0",
      "model_name": "FloatSliderModel",
      "state": {
       "description": "I_x",
       "layout": "IPY_MODEL_8fabb495d61d4d5aaa20be86cc0d7a87",
       "max": 5,
       "min": -5,
       "step": 0.1,
       "style": "IPY_MODEL_5a6a86c4fb9d477f9df91d9b0200f62d"
      }
     },
     "4fde5ecbdd784234bc6841178011ca29": {
      "model_module": "@jupyter-widgets/controls",
      "model_module_version": "1.5.0",
      "model_name": "SliderStyleModel",
      "state": {
       "description_width": ""
      }
     },
     "500c9f938894408f91655b662055de4b": {
      "model_module": "@jupyter-widgets/base",
      "model_module_version": "1.2.0",
      "model_name": "LayoutModel",
      "state": {}
     },
     "517cf7589693436e95715b98c369616e": {
      "model_module": "@jupyter-widgets/controls",
      "model_module_version": "1.5.0",
      "model_name": "SliderStyleModel",
      "state": {
       "description_width": ""
      }
     },
     "51c8ac8cb50c45a39cf6e8d42210206a": {
      "model_module": "@jupyter-widgets/base",
      "model_module_version": "1.2.0",
      "model_name": "LayoutModel",
      "state": {}
     },
     "51d4913a5c22416dbc46d244de9ebd1a": {
      "model_module": "@jupyter-widgets/base",
      "model_module_version": "1.2.0",
      "model_name": "LayoutModel",
      "state": {}
     },
     "54966e0c4e4a4f3e929b2d4e401aad75": {
      "model_module": "@jupyter-widgets/controls",
      "model_module_version": "1.5.0",
      "model_name": "FloatSliderModel",
      "state": {
       "description": "L_L",
       "layout": "IPY_MODEL_76f9dd74400c4e8d8d9575e56d3c5f49",
       "max": 0,
       "min": -5,
       "step": 0.1,
       "style": "IPY_MODEL_6fd9740a0b334b268c7d9d1cb1484c13"
      }
     },
     "5615f7323b2249279ccde9a2c05b66fe": {
      "model_module": "@jupyter-widgets/base",
      "model_module_version": "1.2.0",
      "model_name": "LayoutModel",
      "state": {}
     },
     "57872d3f37ce49faa7a1c73c4471b53c": {
      "model_module": "@jupyter-widgets/controls",
      "model_module_version": "1.5.0",
      "model_name": "VBoxModel",
      "state": {
       "_dom_classes": [
        "widget-interact"
       ],
       "children": [
        "IPY_MODEL_1efffc3cea904aed843b98decf90069c",
        "IPY_MODEL_89a6a3be16f54ae4adfcaf193c7cef52",
        "IPY_MODEL_3b4f0e188db54903b9ab45f867a74378",
        "IPY_MODEL_965ef8a40d9d4107a52295e0382e29fe",
        "IPY_MODEL_5e8d92ad81fb4e2189657c35740a809e",
        "IPY_MODEL_3a52134a639f4cb6a12560363f953c09"
       ],
       "layout": "IPY_MODEL_096a4d34cffc4660a0556bee189074fa"
      }
     },
     "58ba228f8afd470c871dcd9240530485": {
      "model_module": "@jupyter-widgets/controls",
      "model_module_version": "1.5.0",
      "model_name": "VBoxModel",
      "state": {
       "_dom_classes": [
        "widget-interact"
       ],
       "children": [
        "IPY_MODEL_97f9fbc4220c46c390dd615fa54a6261",
        "IPY_MODEL_3ea9e190dd0844139e53600ea8c1258c",
        "IPY_MODEL_2781a5d1f2034ebd88a377a67875ed92",
        "IPY_MODEL_b9671a6197c6471c804360216c5f2a36",
        "IPY_MODEL_da75a3e1fda248d196ffc2937045f723",
        "IPY_MODEL_4b4fea1a94194d69a809ea58d925f23b"
       ],
       "layout": "IPY_MODEL_0387bd3931a046e7b9ee1bec6a8ee827"
      }
     },
     "5a0335b328004344973d190cb4d7e96e": {
      "model_module": "@jupyter-widgets/base",
      "model_module_version": "1.2.0",
      "model_name": "LayoutModel",
      "state": {}
     },
     "5a36de739e464f789ff663b0cc8d6326": {
      "model_module": "@jupyter-widgets/base",
      "model_module_version": "1.2.0",
      "model_name": "LayoutModel",
      "state": {}
     },
     "5a52e9645d7942f5a93ed5f4d8e61b9c": {
      "model_module": "@jupyter-widgets/controls",
      "model_module_version": "1.5.0",
      "model_name": "FloatSliderModel",
      "state": {
       "description": "L_L",
       "layout": "IPY_MODEL_badbf741602a4e23bd780009629c6a0a",
       "max": 0,
       "min": -5,
       "step": 0.1,
       "style": "IPY_MODEL_f77b14f3f80b434ea44bac62427a99f0"
      }
     },
     "5a6a86c4fb9d477f9df91d9b0200f62d": {
      "model_module": "@jupyter-widgets/controls",
      "model_module_version": "1.5.0",
      "model_name": "SliderStyleModel",
      "state": {
       "description_width": ""
      }
     },
     "5a718f6279ed4fcb96e7def212551419": {
      "model_module": "@jupyter-widgets/output",
      "model_module_version": "1.0.0",
      "model_name": "OutputModel",
      "state": {
       "layout": "IPY_MODEL_37ceb65f48a7499d823c02553f70cc29",
       "outputs": [
        {
         "data": {
          "image/png": "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\n",
          "text/plain": "<Figure size 1152x432 with 1 Axes>"
         },
         "metadata": {
          "needs_background": "light"
         },
         "output_type": "display_data"
        }
       ]
      }
     },
     "5a858d10df4d4498a6652c81f0ede1db": {
      "model_module": "@jupyter-widgets/base",
      "model_module_version": "1.2.0",
      "model_name": "LayoutModel",
      "state": {}
     },
     "5cd9a657b8cd42aca0cd074d2664dd95": {
      "model_module": "@jupyter-widgets/base",
      "model_module_version": "1.2.0",
      "model_name": "LayoutModel",
      "state": {}
     },
     "5d36a2e8dafb42f3844e52c91ae05d04": {
      "model_module": "@jupyter-widgets/controls",
      "model_module_version": "1.5.0",
      "model_name": "FloatSliderModel",
      "state": {
       "description": "I_x",
       "layout": "IPY_MODEL_500c9f938894408f91655b662055de4b",
       "max": 5,
       "min": -5,
       "step": 0.1,
       "style": "IPY_MODEL_99dcb7e2c8fe4396b9108a4093d53ddd"
      }
     },
     "5d5dd36f11c445bdb3e79ed104a8b2df": {
      "model_module": "@jupyter-widgets/controls",
      "model_module_version": "1.5.0",
      "model_name": "FloatSliderModel",
      "state": {
       "description": "c",
       "layout": "IPY_MODEL_b8e95fe129144ace8226939ef00c3faf",
       "max": 2,
       "min": -2,
       "step": 0.1,
       "style": "IPY_MODEL_83cb214a09464ccdb0e15f89c449c323"
      }
     },
     "5da87c0b80df4390be9ceb90a9b2ec7a": {
      "model_module": "@jupyter-widgets/controls",
      "model_module_version": "1.5.0",
      "model_name": "SliderStyleModel",
      "state": {
       "description_width": ""
      }
     },
     "5e8d92ad81fb4e2189657c35740a809e": {
      "model_module": "@jupyter-widgets/controls",
      "model_module_version": "1.5.0",
      "model_name": "FloatSliderModel",
      "state": {
       "description": "c",
       "layout": "IPY_MODEL_444f9194cf4344fcbee48a8d5afd2c3f",
       "max": 2,
       "min": -2,
       "step": 0.1,
       "style": "IPY_MODEL_39a35e294d104a02aef072a2e948b71c"
      }
     },
     "60642d432ed143f4957ac4152887aa8a": {
      "model_module": "@jupyter-widgets/controls",
      "model_module_version": "1.5.0",
      "model_name": "SliderStyleModel",
      "state": {
       "description_width": ""
      }
     },
     "60b0982b33cb4c29b94afec498f108e2": {
      "model_module": "@jupyter-widgets/base",
      "model_module_version": "1.2.0",
      "model_name": "LayoutModel",
      "state": {}
     },
     "60f5e8291ae249438071dd70fb0c5efd": {
      "model_module": "@jupyter-widgets/controls",
      "model_module_version": "1.5.0",
      "model_name": "SliderStyleModel",
      "state": {
       "description_width": ""
      }
     },
     "614813e27bd241969239ec649c66eb6e": {
      "model_module": "@jupyter-widgets/base",
      "model_module_version": "1.2.0",
      "model_name": "LayoutModel",
      "state": {}
     },
     "61f6793c1a95445f8c8cabce58132307": {
      "model_module": "@jupyter-widgets/controls",
      "model_module_version": "1.5.0",
      "model_name": "SliderStyleModel",
      "state": {
       "description_width": ""
      }
     },
     "634df38a2ff945929f158093c5ab81e5": {
      "model_module": "@jupyter-widgets/controls",
      "model_module_version": "1.5.0",
      "model_name": "FloatSliderModel",
      "state": {
       "description": "L_L",
       "layout": "IPY_MODEL_294731c323e744db9e4f452cf3934073",
       "max": 0,
       "min": -5,
       "step": 0.1,
       "style": "IPY_MODEL_a3c6ee1d21e243509379bc6b26ad3cd6"
      }
     },
     "6386c1789f9949e683413266632fe184": {
      "model_module": "@jupyter-widgets/base",
      "model_module_version": "1.2.0",
      "model_name": "LayoutModel",
      "state": {}
     },
     "65b24a9432c343f6bba71a0e86a06845": {
      "model_module": "@jupyter-widgets/base",
      "model_module_version": "1.2.0",
      "model_name": "LayoutModel",
      "state": {}
     },
     "6600122a284d42efa3aef8e423a7ac0e": {
      "model_module": "@jupyter-widgets/controls",
      "model_module_version": "1.5.0",
      "model_name": "SliderStyleModel",
      "state": {
       "description_width": ""
      }
     },
     "669f038468da4a2bbea73bd81bf84b04": {
      "model_module": "@jupyter-widgets/base",
      "model_module_version": "1.2.0",
      "model_name": "LayoutModel",
      "state": {}
     },
     "6850eed63059478c9ee0405bfa4714be": {
      "model_module": "@jupyter-widgets/controls",
      "model_module_version": "1.5.0",
      "model_name": "FloatSliderModel",
      "state": {
       "description": "I_x",
       "layout": "IPY_MODEL_ddca09774ce74bc48463b978aea16f9b",
       "max": 5,
       "min": -5,
       "step": 0.1,
       "style": "IPY_MODEL_8ca0b3bc59564e18a1b03ca5e67846a7"
      }
     },
     "68c7d97b691346e991342fd0cb6918a6": {
      "model_module": "@jupyter-widgets/controls",
      "model_module_version": "1.5.0",
      "model_name": "FloatSliderModel",
      "state": {
       "description": "c",
       "layout": "IPY_MODEL_2486cc39c54149b3a671c5fbb14e08fb",
       "max": 2,
       "min": -2,
       "step": 0.1,
       "style": "IPY_MODEL_8da07f95701b45fb943a54ea290a2850"
      }
     },
     "6923ff306a3142728dbfa69a7467db98": {
      "model_module": "@jupyter-widgets/controls",
      "model_module_version": "1.5.0",
      "model_name": "SliderStyleModel",
      "state": {
       "description_width": ""
      }
     },
     "69ec497b4f4c4264b715309bd64e0e87": {
      "model_module": "@jupyter-widgets/base",
      "model_module_version": "1.2.0",
      "model_name": "LayoutModel",
      "state": {}
     },
     "6a7fec68598046f69e8ccfd2f97710f5": {
      "model_module": "@jupyter-widgets/controls",
      "model_module_version": "1.5.0",
      "model_name": "SliderStyleModel",
      "state": {
       "description_width": ""
      }
     },
     "6b583cc126b34430aed112bff05cbc09": {
      "model_module": "@jupyter-widgets/controls",
      "model_module_version": "1.5.0",
      "model_name": "SliderStyleModel",
      "state": {
       "description_width": ""
      }
     },
     "6fd9740a0b334b268c7d9d1cb1484c13": {
      "model_module": "@jupyter-widgets/controls",
      "model_module_version": "1.5.0",
      "model_name": "SliderStyleModel",
      "state": {
       "description_width": ""
      }
     },
     "70858f35c30f4c56aab7dd6c039dfcc6": {
      "model_module": "@jupyter-widgets/controls",
      "model_module_version": "1.5.0",
      "model_name": "SliderStyleModel",
      "state": {
       "description_width": ""
      }
     },
     "71cdec3542f1434bace5d3642cf460fc": {
      "model_module": "@jupyter-widgets/controls",
      "model_module_version": "1.5.0",
      "model_name": "SliderStyleModel",
      "state": {
       "description_width": ""
      }
     },
     "732e14df1ab44668adbe01529ec84ee3": {
      "model_module": "@jupyter-widgets/controls",
      "model_module_version": "1.5.0",
      "model_name": "VBoxModel",
      "state": {
       "_dom_classes": [
        "widget-interact"
       ],
       "children": [
        "IPY_MODEL_d13a184321dc4c6a92fb855dfaa42a92",
        "IPY_MODEL_ca97fc7654dd4b6c9508b8fe5cc3d764",
        "IPY_MODEL_e7ca0ad09616475db9fd47881af2340f",
        "IPY_MODEL_83c88674d5224abe8cb4c38a70b4bcae",
        "IPY_MODEL_2563875e10a341689295ad195ed86651",
        "IPY_MODEL_3c7c60404b614c829f7e8f87224d0e5c"
       ],
       "layout": "IPY_MODEL_943b67728fed40938afb2c28eba1ec27"
      }
     },
     "737b176c86a247eab3acc56db58813a7": {
      "model_module": "@jupyter-widgets/controls",
      "model_module_version": "1.5.0",
      "model_name": "SliderStyleModel",
      "state": {
       "description_width": ""
      }
     },
     "73bdf5f67495415b9f6e965fa93ce0fb": {
      "model_module": "@jupyter-widgets/controls",
      "model_module_version": "1.5.0",
      "model_name": "SliderStyleModel",
      "state": {
       "description_width": ""
      }
     },
     "76f9dd74400c4e8d8d9575e56d3c5f49": {
      "model_module": "@jupyter-widgets/base",
      "model_module_version": "1.2.0",
      "model_name": "LayoutModel",
      "state": {}
     },
     "771bf2bb9a5d4f56ab8b1b095ccf5c0b": {
      "model_module": "@jupyter-widgets/controls",
      "model_module_version": "1.5.0",
      "model_name": "VBoxModel",
      "state": {
       "_dom_classes": [
        "widget-interact"
       ],
       "children": [
        "IPY_MODEL_80d6bb44b1ef48d8a25f7c36eef9e1c1",
        "IPY_MODEL_415ba4dc4dd144479e3b15b4e684bbcc",
        "IPY_MODEL_4f2641b7bd7940b1b12b28b457b7fead",
        "IPY_MODEL_c479279594104a7da0afe6e29a04a679",
        "IPY_MODEL_d3860216e4854b10a66635002d6b934f",
        "IPY_MODEL_8e39785f167040038adfd96ea097da68"
       ],
       "layout": "IPY_MODEL_79faf2fca78840d1826007b05dd4f0a6"
      }
     },
     "7930632f61854a03b312953e1ef24b89": {
      "model_module": "@jupyter-widgets/base",
      "model_module_version": "1.2.0",
      "model_name": "LayoutModel",
      "state": {}
     },
     "7981268b36214b249c80e5a4a2f7b5be": {
      "model_module": "@jupyter-widgets/controls",
      "model_module_version": "1.5.0",
      "model_name": "FloatSliderModel",
      "state": {
       "description": "a",
       "layout": "IPY_MODEL_0776996b13c2402b9939f1032c1daba7",
       "max": 5,
       "min": -5,
       "step": 0.1,
       "style": "IPY_MODEL_05740e7176334614b892fa882b00f189"
      }
     },
     "79faf2fca78840d1826007b05dd4f0a6": {
      "model_module": "@jupyter-widgets/base",
      "model_module_version": "1.2.0",
      "model_name": "LayoutModel",
      "state": {}
     },
     "7b6fe02ae2c74cfa9440bd88a9228c24": {
      "model_module": "@jupyter-widgets/base",
      "model_module_version": "1.2.0",
      "model_name": "LayoutModel",
      "state": {}
     },
     "7bff2b08aaf54b2ca203ebd86fef92ab": {
      "model_module": "@jupyter-widgets/controls",
      "model_module_version": "1.5.0",
      "model_name": "FloatSliderModel",
      "state": {
       "description": "b",
       "layout": "IPY_MODEL_bbd696af2d1b4a5eb9944235ed49936e",
       "max": 3,
       "min": -1,
       "step": 0.1,
       "style": "IPY_MODEL_60642d432ed143f4957ac4152887aa8a",
       "value": 2
      }
     },
     "7c0b11beccd444709c8da63012f10b27": {
      "model_module": "@jupyter-widgets/controls",
      "model_module_version": "1.5.0",
      "model_name": "SliderStyleModel",
      "state": {
       "description_width": ""
      }
     },
     "7c7be9f709854e3995d12500eae022cc": {
      "model_module": "@jupyter-widgets/base",
      "model_module_version": "1.2.0",
      "model_name": "LayoutModel",
      "state": {}
     },
     "7dee1e7da12a4b82937cb10187357d7d": {
      "model_module": "@jupyter-widgets/controls",
      "model_module_version": "1.5.0",
      "model_name": "VBoxModel",
      "state": {
       "_dom_classes": [
        "widget-interact"
       ],
       "children": [
        "IPY_MODEL_5a52e9645d7942f5a93ed5f4d8e61b9c",
        "IPY_MODEL_f8b94bcedba64016a23c6d906eddd802",
        "IPY_MODEL_6850eed63059478c9ee0405bfa4714be",
        "IPY_MODEL_073f026b3d5e4c47b04f5346d24c750d",
        "IPY_MODEL_a39d393569834b099b1d4bf7f488d9fa",
        "IPY_MODEL_822faf31b35f49a180730b184dc380bd"
       ],
       "layout": "IPY_MODEL_5a0335b328004344973d190cb4d7e96e"
      }
     },
     "7df44ec8c0764c7b869074fc63de2efb": {
      "model_module": "@jupyter-widgets/controls",
      "model_module_version": "1.5.0",
      "model_name": "FloatSliderModel",
      "state": {
       "description": "c",
       "layout": "IPY_MODEL_ea9223b8de4e40c899dc5a80600a0ed3",
       "max": 2,
       "min": -2,
       "step": 0.1,
       "style": "IPY_MODEL_5da87c0b80df4390be9ceb90a9b2ec7a",
       "value": 1
      }
     },
     "7f1f7b304eec4f0898dd5596622b80ac": {
      "model_module": "@jupyter-widgets/base",
      "model_module_version": "1.2.0",
      "model_name": "LayoutModel",
      "state": {}
     },
     "80d6bb44b1ef48d8a25f7c36eef9e1c1": {
      "model_module": "@jupyter-widgets/controls",
      "model_module_version": "1.5.0",
      "model_name": "FloatSliderModel",
      "state": {
       "description": "L_L",
       "layout": "IPY_MODEL_1afafc85b2064a6f857b8cb83d5059ee",
       "max": 0,
       "min": -5,
       "step": 0.1,
       "style": "IPY_MODEL_f56d8a27c69f4310ae8ae342a3ca6caa"
      }
     },
     "81af9a5ff3534214b22566bc35fa906a": {
      "model_module": "@jupyter-widgets/controls",
      "model_module_version": "1.5.0",
      "model_name": "FloatSliderModel",
      "state": {
       "description": "b",
       "layout": "IPY_MODEL_65b24a9432c343f6bba71a0e86a06845",
       "max": 3,
       "min": -1,
       "step": 0.1,
       "style": "IPY_MODEL_4fde5ecbdd784234bc6841178011ca29",
       "value": 3
      }
     },
     "822faf31b35f49a180730b184dc380bd": {
      "model_module": "@jupyter-widgets/output",
      "model_module_version": "1.0.0",
      "model_name": "OutputModel",
      "state": {
       "layout": "IPY_MODEL_cf2b371264a447b6b01b76d3a0af8c1f",
       "outputs": [
        {
         "data": {
          "image/png": "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\n",
          "text/plain": "<Figure size 1152x432 with 1 Axes>"
         },
         "metadata": {
          "needs_background": "light"
         },
         "output_type": "display_data"
        }
       ]
      }
     },
     "834e9bff56584102887ef5115cc6043c": {
      "model_module": "@jupyter-widgets/controls",
      "model_module_version": "1.5.0",
      "model_name": "FloatSliderModel",
      "state": {
       "description": "c",
       "layout": "IPY_MODEL_32e0ed06105449a0b7b79e4afb788d22",
       "max": 2,
       "min": -2,
       "step": 0.1,
       "style": "IPY_MODEL_c5cf3821e3294986a3dde033ea132889",
       "value": 1
      }
     },
     "83c88674d5224abe8cb4c38a70b4bcae": {
      "model_module": "@jupyter-widgets/controls",
      "model_module_version": "1.5.0",
      "model_name": "FloatSliderModel",
      "state": {
       "description": "S",
       "layout": "IPY_MODEL_c0017486d65349d7903e064344c3d6ba",
       "max": 3,
       "min": -2,
       "step": 0.1,
       "style": "IPY_MODEL_ee5f0a6bd4d140beb049e587fd252a82",
       "value": 2
      }
     },
     "83cb214a09464ccdb0e15f89c449c323": {
      "model_module": "@jupyter-widgets/controls",
      "model_module_version": "1.5.0",
      "model_name": "SliderStyleModel",
      "state": {
       "description_width": ""
      }
     },
     "8465faa91d1a4885b60469161dde97bc": {
      "model_module": "@jupyter-widgets/controls",
      "model_module_version": "1.5.0",
      "model_name": "SliderStyleModel",
      "state": {
       "description_width": ""
      }
     },
     "84f4bafca49b427bad42c6790c97ab90": {
      "model_module": "@jupyter-widgets/controls",
      "model_module_version": "1.5.0",
      "model_name": "FloatSliderModel",
      "state": {
       "description": "L_U",
       "layout": "IPY_MODEL_cf0f292b99914662adf5dd8d27c5f535",
       "max": 5,
       "step": 0.1,
       "style": "IPY_MODEL_fa0dd70cf44d4a3c9b557b607de7dad7",
       "value": 1
      }
     },
     "8538b57f720b4f9386f5c5812fb4ec8a": {
      "model_module": "@jupyter-widgets/controls",
      "model_module_version": "1.5.0",
      "model_name": "SliderStyleModel",
      "state": {
       "description_width": ""
      }
     },
     "85f9594ba71c45ec9616c370dfbe7d20": {
      "model_module": "@jupyter-widgets/controls",
      "model_module_version": "1.5.0",
      "model_name": "SliderStyleModel",
      "state": {
       "description_width": ""
      }
     },
     "8711f4a8824440caa27d84e15f13fca2": {
      "model_module": "@jupyter-widgets/controls",
      "model_module_version": "1.5.0",
      "model_name": "SliderStyleModel",
      "state": {
       "description_width": ""
      }
     },
     "8746f9f43cf147f88baf108765fac82f": {
      "model_module": "@jupyter-widgets/base",
      "model_module_version": "1.2.0",
      "model_name": "LayoutModel",
      "state": {}
     },
     "88028502a2b24cb28c0ed1b7ae2c0443": {
      "model_module": "@jupyter-widgets/base",
      "model_module_version": "1.2.0",
      "model_name": "LayoutModel",
      "state": {}
     },
     "8802ab93a86c4979a2afab4fb8752c60": {
      "model_module": "@jupyter-widgets/base",
      "model_module_version": "1.2.0",
      "model_name": "LayoutModel",
      "state": {}
     },
     "88d89c1d54a546a797c9aacb589e0c58": {
      "model_module": "@jupyter-widgets/controls",
      "model_module_version": "1.5.0",
      "model_name": "VBoxModel",
      "state": {
       "_dom_classes": [
        "widget-interact"
       ],
       "children": [
        "IPY_MODEL_4e8f3eb5971c40dda6fe1e1fbdcdcf69",
        "IPY_MODEL_84f4bafca49b427bad42c6790c97ab90",
        "IPY_MODEL_e0e2086dc6954f918dbc970d38fc85b5",
        "IPY_MODEL_c5b49c941888449ab788fbd5e8a8168c",
        "IPY_MODEL_de301457c346436e8fc396c969ce5702",
        "IPY_MODEL_1c41f846ed2d4ab497bb3c79a820534f"
       ],
       "layout": "IPY_MODEL_88028502a2b24cb28c0ed1b7ae2c0443"
      }
     },
     "89a6a3be16f54ae4adfcaf193c7cef52": {
      "model_module": "@jupyter-widgets/controls",
      "model_module_version": "1.5.0",
      "model_name": "FloatSliderModel",
      "state": {
       "description": "L_U",
       "layout": "IPY_MODEL_5cd9a657b8cd42aca0cd074d2664dd95",
       "max": 5,
       "step": 0.1,
       "style": "IPY_MODEL_1eb9f525795b498487cf1bdc9d52333e",
       "value": 1
      }
     },
     "8a6112423eb34615a340ee6fa4262b46": {
      "model_module": "@jupyter-widgets/controls",
      "model_module_version": "1.5.0",
      "model_name": "SliderStyleModel",
      "state": {
       "description_width": ""
      }
     },
     "8ca0b3bc59564e18a1b03ca5e67846a7": {
      "model_module": "@jupyter-widgets/controls",
      "model_module_version": "1.5.0",
      "model_name": "SliderStyleModel",
      "state": {
       "description_width": ""
      }
     },
     "8d80c040a1034330ac6f1e6d3df2f577": {
      "model_module": "@jupyter-widgets/controls",
      "model_module_version": "1.5.0",
      "model_name": "SliderStyleModel",
      "state": {
       "description_width": ""
      }
     },
     "8da07f95701b45fb943a54ea290a2850": {
      "model_module": "@jupyter-widgets/controls",
      "model_module_version": "1.5.0",
      "model_name": "SliderStyleModel",
      "state": {
       "description_width": ""
      }
     },
     "8e39785f167040038adfd96ea097da68": {
      "model_module": "@jupyter-widgets/output",
      "model_module_version": "1.0.0",
      "model_name": "OutputModel",
      "state": {
       "layout": "IPY_MODEL_f448f9826bf24566a7b8d50cf8cc57ca",
       "outputs": [
        {
         "data": {
          "image/png": "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\n",
          "text/plain": "<Figure size 1152x432 with 1 Axes>"
         },
         "metadata": {
          "needs_background": "light"
         },
         "output_type": "display_data"
        }
       ]
      }
     },
     "8eab72167d9f4cd5a3161551c6b49772": {
      "model_module": "@jupyter-widgets/base",
      "model_module_version": "1.2.0",
      "model_name": "LayoutModel",
      "state": {}
     },
     "8ebb984b21604fa2b05f771407398256": {
      "model_module": "@jupyter-widgets/base",
      "model_module_version": "1.2.0",
      "model_name": "LayoutModel",
      "state": {}
     },
     "8fabb495d61d4d5aaa20be86cc0d7a87": {
      "model_module": "@jupyter-widgets/base",
      "model_module_version": "1.2.0",
      "model_name": "LayoutModel",
      "state": {}
     },
     "941280f1229d4f78bd0d2795845dce8a": {
      "model_module": "@jupyter-widgets/base",
      "model_module_version": "1.2.0",
      "model_name": "LayoutModel",
      "state": {}
     },
     "943b67728fed40938afb2c28eba1ec27": {
      "model_module": "@jupyter-widgets/base",
      "model_module_version": "1.2.0",
      "model_name": "LayoutModel",
      "state": {}
     },
     "9536507d6d51455b8d4b917a942a0c4c": {
      "model_module": "@jupyter-widgets/controls",
      "model_module_version": "1.5.0",
      "model_name": "FloatSliderModel",
      "state": {
       "description": "c",
       "layout": "IPY_MODEL_5615f7323b2249279ccde9a2c05b66fe",
       "max": 2,
       "min": -2,
       "step": 0.1,
       "style": "IPY_MODEL_73bdf5f67495415b9f6e965fa93ce0fb",
       "value": 1
      }
     },
     "965ef8a40d9d4107a52295e0382e29fe": {
      "model_module": "@jupyter-widgets/controls",
      "model_module_version": "1.5.0",
      "model_name": "FloatSliderModel",
      "state": {
       "description": "b",
       "layout": "IPY_MODEL_2c5e44ed5b714f01949b6dd6c5f58b2d",
       "max": 3,
       "min": -1,
       "step": 0.1,
       "style": "IPY_MODEL_b2812205476548b281925611abfa2b42",
       "value": 2
      }
     },
     "97f9fbc4220c46c390dd615fa54a6261": {
      "model_module": "@jupyter-widgets/controls",
      "model_module_version": "1.5.0",
      "model_name": "FloatSliderModel",
      "state": {
       "description": "L_L",
       "layout": "IPY_MODEL_8746f9f43cf147f88baf108765fac82f",
       "max": 0,
       "min": -5,
       "step": 0.1,
       "style": "IPY_MODEL_8538b57f720b4f9386f5c5812fb4ec8a"
      }
     },
     "99dcb7e2c8fe4396b9108a4093d53ddd": {
      "model_module": "@jupyter-widgets/controls",
      "model_module_version": "1.5.0",
      "model_name": "SliderStyleModel",
      "state": {
       "description_width": ""
      }
     },
     "9d8be055c2c14f00b745b9496c09387b": {
      "model_module": "@jupyter-widgets/base",
      "model_module_version": "1.2.0",
      "model_name": "LayoutModel",
      "state": {}
     },
     "9e5ae9e9c15f43f8b4e4844a2f9145ea": {
      "model_module": "@jupyter-widgets/controls",
      "model_module_version": "1.5.0",
      "model_name": "VBoxModel",
      "state": {
       "_dom_classes": [
        "widget-interact"
       ],
       "children": [
        "IPY_MODEL_54966e0c4e4a4f3e929b2d4e401aad75",
        "IPY_MODEL_2325efb46ade49108817226fc6a9a1f0",
        "IPY_MODEL_7981268b36214b249c80e5a4a2f7b5be",
        "IPY_MODEL_b9beef2ed0e645dd9ef7190a6fbf30a6",
        "IPY_MODEL_7df44ec8c0764c7b869074fc63de2efb",
        "IPY_MODEL_ff22f53e32bd4497b1f26dc236bfec35"
       ],
       "layout": "IPY_MODEL_5a36de739e464f789ff663b0cc8d6326"
      }
     },
     "9f12ed18725443bd91fcbf54523f9d6a": {
      "model_module": "@jupyter-widgets/base",
      "model_module_version": "1.2.0",
      "model_name": "LayoutModel",
      "state": {}
     },
     "a086a1b2a01e4977a3e888b0edad1a6f": {
      "model_module": "@jupyter-widgets/base",
      "model_module_version": "1.2.0",
      "model_name": "LayoutModel",
      "state": {}
     },
     "a0d6bcd776dd40dabe9d530cad73069c": {
      "model_module": "@jupyter-widgets/controls",
      "model_module_version": "1.5.0",
      "model_name": "SliderStyleModel",
      "state": {
       "description_width": ""
      }
     },
     "a1a07a80cb7e44b284c06d6f282f62eb": {
      "model_module": "@jupyter-widgets/base",
      "model_module_version": "1.2.0",
      "model_name": "LayoutModel",
      "state": {}
     },
     "a1ede226c82d421a8e872b819b6775f8": {
      "model_module": "@jupyter-widgets/controls",
      "model_module_version": "1.5.0",
      "model_name": "SliderStyleModel",
      "state": {
       "description_width": ""
      }
     },
     "a39d393569834b099b1d4bf7f488d9fa": {
      "model_module": "@jupyter-widgets/controls",
      "model_module_version": "1.5.0",
      "model_name": "FloatSliderModel",
      "state": {
       "description": "c",
       "layout": "IPY_MODEL_300d132be9f342d48af431dd5a1b9e3f",
       "max": 2,
       "min": -2,
       "step": 0.1,
       "style": "IPY_MODEL_3b683b38982b4466bb0c02bb0ca09925"
      }
     },
     "a3c6ee1d21e243509379bc6b26ad3cd6": {
      "model_module": "@jupyter-widgets/controls",
      "model_module_version": "1.5.0",
      "model_name": "SliderStyleModel",
      "state": {
       "description_width": ""
      }
     },
     "a3ca2b02fb02461e8dfaaaebfc381aa4": {
      "model_module": "@jupyter-widgets/base",
      "model_module_version": "1.2.0",
      "model_name": "LayoutModel",
      "state": {}
     },
     "a581cd6d585949d7a6277525597a8bca": {
      "model_module": "@jupyter-widgets/controls",
      "model_module_version": "1.5.0",
      "model_name": "SliderStyleModel",
      "state": {
       "description_width": ""
      }
     },
     "aa6e301fc12b43238f2b5a28230f7764": {
      "model_module": "@jupyter-widgets/controls",
      "model_module_version": "1.5.0",
      "model_name": "SliderStyleModel",
      "state": {
       "description_width": ""
      }
     },
     "ab54b11b9e744b14a5dbd8bc302b1ff1": {
      "model_module": "@jupyter-widgets/controls",
      "model_module_version": "1.5.0",
      "model_name": "SliderStyleModel",
      "state": {
       "description_width": ""
      }
     },
     "aecb164ed283451d9926579f3de73cc6": {
      "model_module": "@jupyter-widgets/controls",
      "model_module_version": "1.5.0",
      "model_name": "FloatSliderModel",
      "state": {
       "description": "I_x",
       "layout": "IPY_MODEL_614813e27bd241969239ec649c66eb6e",
       "max": 5,
       "min": -5,
       "step": 0.1,
       "style": "IPY_MODEL_e63c5f370c354ecca033957ce473de59"
      }
     },
     "b01118bfeb0f48f3999a1630be6c970a": {
      "model_module": "@jupyter-widgets/controls",
      "model_module_version": "1.5.0",
      "model_name": "SliderStyleModel",
      "state": {
       "description_width": ""
      }
     },
     "b01ec46d405a4387aea140fe727bee33": {
      "model_module": "@jupyter-widgets/base",
      "model_module_version": "1.2.0",
      "model_name": "LayoutModel",
      "state": {}
     },
     "b19ba881e612453f82eb599caf44b512": {
      "model_module": "@jupyter-widgets/controls",
      "model_module_version": "1.5.0",
      "model_name": "SliderStyleModel",
      "state": {
       "description_width": ""
      }
     },
     "b2812205476548b281925611abfa2b42": {
      "model_module": "@jupyter-widgets/controls",
      "model_module_version": "1.5.0",
      "model_name": "SliderStyleModel",
      "state": {
       "description_width": ""
      }
     },
     "b8e95fe129144ace8226939ef00c3faf": {
      "model_module": "@jupyter-widgets/base",
      "model_module_version": "1.2.0",
      "model_name": "LayoutModel",
      "state": {}
     },
     "b9671a6197c6471c804360216c5f2a36": {
      "model_module": "@jupyter-widgets/controls",
      "model_module_version": "1.5.0",
      "model_name": "FloatSliderModel",
      "state": {
       "description": "b",
       "layout": "IPY_MODEL_d5062c94a8fe471499ec7955a0bbaf87",
       "max": 3,
       "min": -1,
       "step": 0.1,
       "style": "IPY_MODEL_6b583cc126b34430aed112bff05cbc09",
       "value": 3
      }
     },
     "b9beef2ed0e645dd9ef7190a6fbf30a6": {
      "model_module": "@jupyter-widgets/controls",
      "model_module_version": "1.5.0",
      "model_name": "FloatSliderModel",
      "state": {
       "description": "b",
       "layout": "IPY_MODEL_01aa18713d024ec0933942bcb05c33ac",
       "max": 3,
       "min": -1,
       "step": 0.1,
       "style": "IPY_MODEL_8d80c040a1034330ac6f1e6d3df2f577",
       "value": 3
      }
     },
     "ba2d85ac51d941ffa6793cd2da14ad51": {
      "model_module": "@jupyter-widgets/controls",
      "model_module_version": "1.5.0",
      "model_name": "SliderStyleModel",
      "state": {
       "description_width": ""
      }
     },
     "badbf741602a4e23bd780009629c6a0a": {
      "model_module": "@jupyter-widgets/base",
      "model_module_version": "1.2.0",
      "model_name": "LayoutModel",
      "state": {}
     },
     "bb2d2727bc1a4924908aeb67df7fce19": {
      "model_module": "@jupyter-widgets/controls",
      "model_module_version": "1.5.0",
      "model_name": "SliderStyleModel",
      "state": {
       "description_width": ""
      }
     },
     "bbd696af2d1b4a5eb9944235ed49936e": {
      "model_module": "@jupyter-widgets/base",
      "model_module_version": "1.2.0",
      "model_name": "LayoutModel",
      "state": {}
     },
     "bdcf978361bc41e48ad40fdf30eed17b": {
      "model_module": "@jupyter-widgets/controls",
      "model_module_version": "1.5.0",
      "model_name": "FloatSliderModel",
      "state": {
       "description": "L_U",
       "layout": "IPY_MODEL_4b7672e3a28f45f4bbb75a1ed53cefd3",
       "max": 5,
       "step": 0.1,
       "style": "IPY_MODEL_b01118bfeb0f48f3999a1630be6c970a",
       "value": 1
      }
     },
     "c0017486d65349d7903e064344c3d6ba": {
      "model_module": "@jupyter-widgets/base",
      "model_module_version": "1.2.0",
      "model_name": "LayoutModel",
      "state": {}
     },
     "c479279594104a7da0afe6e29a04a679": {
      "model_module": "@jupyter-widgets/controls",
      "model_module_version": "1.5.0",
      "model_name": "FloatSliderModel",
      "state": {
       "description": "S",
       "layout": "IPY_MODEL_00040f0934ea48d5bf7fe932ed2c4410",
       "max": 3,
       "min": -2,
       "step": 0.1,
       "style": "IPY_MODEL_3637887fde3b46b89fd5a3d5bc7176dc",
       "value": 2
      }
     },
     "c5b49c941888449ab788fbd5e8a8168c": {
      "model_module": "@jupyter-widgets/controls",
      "model_module_version": "1.5.0",
      "model_name": "FloatSliderModel",
      "state": {
       "description": "S",
       "layout": "IPY_MODEL_49e7412fb21a4cf1a036e5c3ed42a0e6",
       "max": 3,
       "min": -2,
       "step": 0.1,
       "style": "IPY_MODEL_ba2d85ac51d941ffa6793cd2da14ad51",
       "value": 2
      }
     },
     "c5cf3821e3294986a3dde033ea132889": {
      "model_module": "@jupyter-widgets/controls",
      "model_module_version": "1.5.0",
      "model_name": "SliderStyleModel",
      "state": {
       "description_width": ""
      }
     },
     "ca97fc7654dd4b6c9508b8fe5cc3d764": {
      "model_module": "@jupyter-widgets/controls",
      "model_module_version": "1.5.0",
      "model_name": "FloatSliderModel",
      "state": {
       "description": "L_U",
       "layout": "IPY_MODEL_9f12ed18725443bd91fcbf54523f9d6a",
       "max": 5,
       "step": 0.1,
       "style": "IPY_MODEL_488d337c026c423d826795b4c0c69256",
       "value": 1
      }
     },
     "cca9c66cce32465782ab67fc7612d30a": {
      "model_module": "@jupyter-widgets/output",
      "model_module_version": "1.0.0",
      "model_name": "OutputModel",
      "state": {
       "layout": "IPY_MODEL_d6326cc05eee4d95877265be49fbbbab",
       "outputs": [
        {
         "data": {
          "image/png": "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\n",
          "text/plain": "<Figure size 1152x432 with 1 Axes>"
         },
         "metadata": {
          "needs_background": "light"
         },
         "output_type": "display_data"
        }
       ]
      }
     },
     "cf0f292b99914662adf5dd8d27c5f535": {
      "model_module": "@jupyter-widgets/base",
      "model_module_version": "1.2.0",
      "model_name": "LayoutModel",
      "state": {}
     },
     "cf2b371264a447b6b01b76d3a0af8c1f": {
      "model_module": "@jupyter-widgets/base",
      "model_module_version": "1.2.0",
      "model_name": "LayoutModel",
      "state": {}
     },
     "d13a184321dc4c6a92fb855dfaa42a92": {
      "model_module": "@jupyter-widgets/controls",
      "model_module_version": "1.5.0",
      "model_name": "FloatSliderModel",
      "state": {
       "description": "L_L",
       "layout": "IPY_MODEL_8ebb984b21604fa2b05f771407398256",
       "max": 0,
       "min": -5,
       "step": 0.1,
       "style": "IPY_MODEL_85f9594ba71c45ec9616c370dfbe7d20"
      }
     },
     "d2e824bb9c9b4aefb1f9142a2930fc46": {
      "model_module": "@jupyter-widgets/controls",
      "model_module_version": "1.5.0",
      "model_name": "FloatSliderModel",
      "state": {
       "description": "I_x",
       "layout": "IPY_MODEL_6386c1789f9949e683413266632fe184",
       "max": 5,
       "min": -5,
       "step": 0.1,
       "style": "IPY_MODEL_a1ede226c82d421a8e872b819b6775f8"
      }
     },
     "d3860216e4854b10a66635002d6b934f": {
      "model_module": "@jupyter-widgets/controls",
      "model_module_version": "1.5.0",
      "model_name": "FloatSliderModel",
      "state": {
       "description": "c",
       "layout": "IPY_MODEL_3b50a4140dcd441bbc0783545f47fd17",
       "max": 2,
       "min": -2,
       "step": 0.1,
       "style": "IPY_MODEL_8465faa91d1a4885b60469161dde97bc",
       "value": 1
      }
     },
     "d3f0422214284fa1be0e2373311a8f74": {
      "model_module": "@jupyter-widgets/controls",
      "model_module_version": "1.5.0",
      "model_name": "FloatSliderModel",
      "state": {
       "description": "a",
       "layout": "IPY_MODEL_22137513e0154ea6bc072609d9a92111",
       "max": 5,
       "min": -5,
       "step": 0.1,
       "style": "IPY_MODEL_517cf7589693436e95715b98c369616e"
      }
     },
     "d5062c94a8fe471499ec7955a0bbaf87": {
      "model_module": "@jupyter-widgets/base",
      "model_module_version": "1.2.0",
      "model_name": "LayoutModel",
      "state": {}
     },
     "d520999c7a3b4ddeaa140490f66e67fa": {
      "model_module": "@jupyter-widgets/controls",
      "model_module_version": "1.5.0",
      "model_name": "FloatSliderModel",
      "state": {
       "description": "L_L",
       "layout": "IPY_MODEL_33f199c4547343169b51b519df88e71a",
       "max": 0,
       "min": -5,
       "step": 0.1,
       "style": "IPY_MODEL_6600122a284d42efa3aef8e423a7ac0e"
      }
     },
     "d62d4cd1870842eb971527e8f3580818": {
      "model_module": "@jupyter-widgets/base",
      "model_module_version": "1.2.0",
      "model_name": "LayoutModel",
      "state": {}
     },
     "d6326cc05eee4d95877265be49fbbbab": {
      "model_module": "@jupyter-widgets/base",
      "model_module_version": "1.2.0",
      "model_name": "LayoutModel",
      "state": {}
     },
     "d79f717b55f8454aad1815af1a0da45e": {
      "model_module": "@jupyter-widgets/base",
      "model_module_version": "1.2.0",
      "model_name": "LayoutModel",
      "state": {}
     },
     "d9af60a3ecb9490a9821c7d8787b3fdd": {
      "model_module": "@jupyter-widgets/controls",
      "model_module_version": "1.5.0",
      "model_name": "VBoxModel",
      "state": {
       "_dom_classes": [
        "widget-interact"
       ],
       "children": [
        "IPY_MODEL_d520999c7a3b4ddeaa140490f66e67fa",
        "IPY_MODEL_343bb812786c4167930eaad7f136c21c",
        "IPY_MODEL_d3f0422214284fa1be0e2373311a8f74",
        "IPY_MODEL_81af9a5ff3534214b22566bc35fa906a",
        "IPY_MODEL_9536507d6d51455b8d4b917a942a0c4c",
        "IPY_MODEL_5a718f6279ed4fcb96e7def212551419"
       ],
       "layout": "IPY_MODEL_25779dea8df04f55a5bce3398ad06367"
      }
     },
     "da75a3e1fda248d196ffc2937045f723": {
      "model_module": "@jupyter-widgets/controls",
      "model_module_version": "1.5.0",
      "model_name": "FloatSliderModel",
      "state": {
       "description": "c",
       "layout": "IPY_MODEL_b01ec46d405a4387aea140fe727bee33",
       "max": 2,
       "min": -2,
       "step": 0.1,
       "style": "IPY_MODEL_737b176c86a247eab3acc56db58813a7",
       "value": 1
      }
     },
     "dadd7b6cbd9748818e92bbcb82e9a18e": {
      "model_module": "@jupyter-widgets/controls",
      "model_module_version": "1.5.0",
      "model_name": "FloatSliderModel",
      "state": {
       "description": "S",
       "layout": "IPY_MODEL_7f1f7b304eec4f0898dd5596622b80ac",
       "max": 3,
       "min": -2,
       "step": 0.1,
       "style": "IPY_MODEL_bb2d2727bc1a4924908aeb67df7fce19",
       "value": 2
      }
     },
     "ddca09774ce74bc48463b978aea16f9b": {
      "model_module": "@jupyter-widgets/base",
      "model_module_version": "1.2.0",
      "model_name": "LayoutModel",
      "state": {}
     },
     "de301457c346436e8fc396c969ce5702": {
      "model_module": "@jupyter-widgets/controls",
      "model_module_version": "1.5.0",
      "model_name": "FloatSliderModel",
      "state": {
       "description": "c",
       "layout": "IPY_MODEL_4c7950d8c22d4340b8ce7ad7abe15c87",
       "max": 2,
       "min": -2,
       "step": 0.1,
       "style": "IPY_MODEL_a0d6bcd776dd40dabe9d530cad73069c",
       "value": 1
      }
     },
     "e0e2086dc6954f918dbc970d38fc85b5": {
      "model_module": "@jupyter-widgets/controls",
      "model_module_version": "1.5.0",
      "model_name": "FloatSliderModel",
      "state": {
       "description": "I_x",
       "layout": "IPY_MODEL_efa2ced391b044c9a960f669ebc1bf0b",
       "max": 5,
       "min": -5,
       "step": 0.1,
       "style": "IPY_MODEL_47568b4c225e4c89ac54ff29271e0df5"
      }
     },
     "e10fec79a85744e086d81c09cd484400": {
      "model_module": "@jupyter-widgets/base",
      "model_module_version": "1.2.0",
      "model_name": "LayoutModel",
      "state": {}
     },
     "e24feecb859e4a8bb5f5a588dc9ed4eb": {
      "model_module": "@jupyter-widgets/base",
      "model_module_version": "1.2.0",
      "model_name": "LayoutModel",
      "state": {}
     },
     "e63c5f370c354ecca033957ce473de59": {
      "model_module": "@jupyter-widgets/controls",
      "model_module_version": "1.5.0",
      "model_name": "SliderStyleModel",
      "state": {
       "description_width": ""
      }
     },
     "e7ca0ad09616475db9fd47881af2340f": {
      "model_module": "@jupyter-widgets/controls",
      "model_module_version": "1.5.0",
      "model_name": "FloatSliderModel",
      "state": {
       "description": "I_x",
       "layout": "IPY_MODEL_a3ca2b02fb02461e8dfaaaebfc381aa4",
       "max": 5,
       "min": -5,
       "step": 0.1,
       "style": "IPY_MODEL_f33ce4ef4b534aedb47f722a8f3c131c"
      }
     },
     "ea9223b8de4e40c899dc5a80600a0ed3": {
      "model_module": "@jupyter-widgets/base",
      "model_module_version": "1.2.0",
      "model_name": "LayoutModel",
      "state": {}
     },
     "ee44adbebcb14b78bc2091fc2f7d6c01": {
      "model_module": "@jupyter-widgets/base",
      "model_module_version": "1.2.0",
      "model_name": "LayoutModel",
      "state": {}
     },
     "ee5f0a6bd4d140beb049e587fd252a82": {
      "model_module": "@jupyter-widgets/controls",
      "model_module_version": "1.5.0",
      "model_name": "SliderStyleModel",
      "state": {
       "description_width": ""
      }
     },
     "efa2ced391b044c9a960f669ebc1bf0b": {
      "model_module": "@jupyter-widgets/base",
      "model_module_version": "1.2.0",
      "model_name": "LayoutModel",
      "state": {}
     },
     "f16b3148ad3c49ec90e9f9dd139914bf": {
      "model_module": "@jupyter-widgets/controls",
      "model_module_version": "1.5.0",
      "model_name": "SliderStyleModel",
      "state": {
       "description_width": ""
      }
     },
     "f1b645693f4b4cee8f31a4562af6fdcd": {
      "model_module": "@jupyter-widgets/controls",
      "model_module_version": "1.5.0",
      "model_name": "SliderStyleModel",
      "state": {
       "description_width": ""
      }
     },
     "f33ce4ef4b534aedb47f722a8f3c131c": {
      "model_module": "@jupyter-widgets/controls",
      "model_module_version": "1.5.0",
      "model_name": "SliderStyleModel",
      "state": {
       "description_width": ""
      }
     },
     "f448f9826bf24566a7b8d50cf8cc57ca": {
      "model_module": "@jupyter-widgets/base",
      "model_module_version": "1.2.0",
      "model_name": "LayoutModel",
      "state": {}
     },
     "f56d8a27c69f4310ae8ae342a3ca6caa": {
      "model_module": "@jupyter-widgets/controls",
      "model_module_version": "1.5.0",
      "model_name": "SliderStyleModel",
      "state": {
       "description_width": ""
      }
     },
     "f77b14f3f80b434ea44bac62427a99f0": {
      "model_module": "@jupyter-widgets/controls",
      "model_module_version": "1.5.0",
      "model_name": "SliderStyleModel",
      "state": {
       "description_width": ""
      }
     },
     "f8b94bcedba64016a23c6d906eddd802": {
      "model_module": "@jupyter-widgets/controls",
      "model_module_version": "1.5.0",
      "model_name": "FloatSliderModel",
      "state": {
       "description": "L_U",
       "layout": "IPY_MODEL_8802ab93a86c4979a2afab4fb8752c60",
       "max": 5,
       "step": 0.1,
       "style": "IPY_MODEL_aa6e301fc12b43238f2b5a28230f7764",
       "value": 1
      }
     },
     "fa0dd70cf44d4a3c9b557b607de7dad7": {
      "model_module": "@jupyter-widgets/controls",
      "model_module_version": "1.5.0",
      "model_name": "SliderStyleModel",
      "state": {
       "description_width": ""
      }
     },
     "fc39fcb8fe0a4456b49ebe1d8e80c8c4": {
      "model_module": "@jupyter-widgets/controls",
      "model_module_version": "1.5.0",
      "model_name": "SliderStyleModel",
      "state": {
       "description_width": ""
      }
     },
     "fe1b5db1e440429f9142467c188ebd56": {
      "model_module": "@jupyter-widgets/controls",
      "model_module_version": "1.5.0",
      "model_name": "FloatSliderModel",
      "state": {
       "description": "b",
       "layout": "IPY_MODEL_ee44adbebcb14b78bc2091fc2f7d6c01",
       "max": 3,
       "min": -1,
       "step": 0.1,
       "style": "IPY_MODEL_71cdec3542f1434bace5d3642cf460fc",
       "value": 2
      }
     },
     "fe4d73454fdc4889b58c16e5e816aa94": {
      "model_module": "@jupyter-widgets/output",
      "model_module_version": "1.0.0",
      "model_name": "OutputModel",
      "state": {
       "layout": "IPY_MODEL_69ec497b4f4c4264b715309bd64e0e87",
       "outputs": [
        {
         "data": {
          "image/png": "iVBORw0KGgoAAAANSUhEUgAAA7AAAAFpCAYAAAClE8QMAAAABHNCSVQICAgIfAhkiAAAAAlwSFlzAAALEgAACxIB0t1+/AAAADh0RVh0U29mdHdhcmUAbWF0cGxvdGxpYiB2ZXJzaW9uMy4xLjEsIGh0dHA6Ly9tYXRwbG90bGliLm9yZy8QZhcZAAAgAElEQVR4nOzdd3hW5f3H8fedDSTMsPdQRMKSKCIq1DpA6wItiFBFLWrx12rdbVEQW6nirFrBgQNkyBIUsCJDUFQIIwkbwkgIAZJAIHs89++PEyBhifIk5yR8Xtd1rvv5nvkBH4FvzjLWWkRERERERES8LsDtACIiIiIiIiJnQg2siIiIiIiIVAhqYEVERERERKRCUAMrIiIiIiIiFYIaWBEREREREakQ1MCKiIiIiIhIheCXBtYY84ExZp8xJv4Uy3sZYzKMMWuKp2dKLOttjNlkjNlqjHnKH3lERERERESk8jH+eA+sMeZKIBP42FobdZLlvYDHrLW/O25+ILAZuAZIAlYAd1hr1591KBEREREREalU/HIG1lr7LZD+Kza9BNhqrU2w1uYDk4Gb/ZFJREREREREKpfyvAe2uzFmrTFmnjGmffG8xkBiiXWSiueJiIiIiIiIlBJUTsdZBTS31mYaY64HZgHnAeYk6570mmZjzFBgKEC1atW6XnDBBWWVVURExDt8PmcM0HMXRUTk3BETE5Nqra17/PxyaWCttYdKfJ5rjHnbGBOJc8a1aYlVmwDJp9jHOGAcQHR0tF25cmUZJhYRERERERG3GGN2nmx+ufw41xjTwBhjij9fUnzcNJyHNp1njGlpjAkBBgCzyyOTiIhIhTBhgjOJiIiIf87AGmMmAb2ASGNMEvAsEAxgrX0HuA140BhTCOQAA6zz+ONCY8xDwFdAIPCBtXadPzKJiIhUCu+954yDBrmbQ0RExAP88hqd8qZLiEVE5JxRUOCMwcHu5hARESlHxpgYa2308fPL6yFOIiIi8muocRURETlKjzQUERHxsg8/dCYRERFRAysiIuJpamBFRESO0iXEIiIiXrZ4sdsJREREPENnYEVERERERKRCUAMrIiLiZe++60wiIiKiBlZERMTTpkxxJhEREdE9sCIiIp62YIHbCURERDxDZ2BFRERERESkQlADKyIi4mVvv+1MIiIiogZWRETE0+bMcSYRERHRPbAiIiKeNm+e2wlEREQ8Q2dgRUREREREpEJQAysiIuJlr7/uTCIiIqIGVkRExNO++caZRERERPfAioiIeNrs2W4nEBER8QydgRUREREREZEKQQ2siIiIl40Z40wiIiKiS4hFREQ8bflytxOIiIh4hhpYERERL5s+3e0EIiIinqFLiEVERERERKRCUAMrIiLiZaNHO5OIiIjoEmIRERFPW7PG7QQiIiKeoQZWRETEyyZPdjuBiIiIZ+gSYhEREREREakQ1MCKiIh42ahRziQiIiK6hFhERMTTNm1yO4GIiIhnqIEVERHxsgkT3E4gIiLiGbqEWERERERERCoENbAiIiJe9swzziQiIiK6hFhERMTTEhPdTiAiIuIZamBFRES8bPx4txOIiIh4hl8uITbGfGCM2WeMiT/F8juNMbHF0/fGmE4llu0wxsQZY9YYY1b6I4+IiIiIiIhUPv66B/ZDoPdplm8HelprOwKjgHHHLf+NtbaztTbaT3lEREQqh6efdiYRERHxzyXE1tpvjTEtTrP8+xLlD0ATfxxXRESk0ktLczuBiIiIZ7hxD+y9wLwStQX+Z4yxwFhr7fFnZwEwxgwFhgI0a9aszEOKiIh4wriT/rUoIiJyTirXBtYY8xucBvbyErN7WGuTjTH1gK+NMRuttd8ev21xYzsOIDo62pZLYBEREREREfGMcnsPrDGmI/AecLO19uj1UNba5OJxHzATuKS8MomIiHjeY485k4iIiJRPA2uMaQbMAAZbazeXmF/NGBNx5DNwLXDSJxmLiIick3JynElERET8cwmxMWYS0AuINMYkAc8CwQDW2neAZ4A6wNvGGIDC4icO1wdmFs8LAj611s73RyYREZFK4a233E4gIiLiGf56CvEdP7P8PuC+k8xPADqduIWIiIiIiIhIaeV2D6yIiIj8Cg8/7EwiIiKiBlZEREREREQqBjfeAysiIiJn6rXX3E4gIiLiGToDKyIiIiIiIhWCGlgREREvGzbMmURERESXEIuIiHhalSpuJxAREfEMNbAiIiJeNmaM2wlEREQ8Q5cQi4iIiIiISIWgBlZERMTLhg51JhEREdElxCIiIp5Wp47bCURERDxDDayIiIiXvfCC2wlEREQ8Q5cQi4iIiIiISIWgBlZERMTLhgxxJhEREdElxCIiIp7WtKnbCURERDxDDayIiIiXPfec2wlEREQ8Q5cQi4iIiIiISIWgBlZERMTLBg1yJhEREdElxCIiIp7Wtq3bCURERDxDDayIiIiXDR/udgIRERHP0CXEIiIiIiIiUiGogRUREfGyAQOcSURERHQJsYiIiKd17ux2AhEREc9QAysiIuJlTz3ldgIRERHP0CXEIiIiIiIiUiGogRUREfGyfv2cSURERHQJsYiIiKd17+52AhEREc9QAysiIuJljz3mdgIRERHP0CXEIiIiIiIiUiGogRUREfGym25yJhEREdElxCIiIp7229+6nUBERMQz1MCKiIh42V/+4nYCERERz9AlxCIiIiIiIlIh+KWBNcZ8YIzZZ4yJP8VyY4x5wxiz1RgTa4y5qMSyu4wxW4qnu/yRR0REpNLo08eZRERExG+XEH8IvAl8fIrlfYDziqduwH+BbsaY2sCzQDRggRhjzGxr7QE/5RIREanYbrzR7QQiIiKeEThixIiz3smIESN2jhw5MhQYOGLEiLePXz5y5MjHgM+ttXEjRoxIGjly5OMjR46cDlwN+Ky1n40YMSJ35MiRFwJBI0aMOOmZ3COe+uerI1pdcTPtG9WgoMjHwHd/ICjQ0K5hdXLyixj03o+EBQfStkEEh3IL+MP7PxERFkSbehGkZ+Vz9/ifqFU1hFZ1w9l3OJd7PlxB3YhQWkRWI/lgDvd9tJKGNarQrE5VdqVlM/STlTStXZUmtaqybX8mD06IoVXdajSqWYVNKYcZNnEV59ePoEGNMNYlZ/B/n67mwkbVqRcRxtrEg/xl8mo6NqlJZHgoMTvTeWTKGi5qXova1UL4ISGNR6eupVvLOtSoGsyyLak8Pm0tPdpEEhEWzOJN+3hyeiw929alWmgQC9bv5ekZcfy2XX2qhAQyP34Pf58Zz3VRDQgNCmTO2mSe+Tye33VsRHBgADNXJzFi9jpu6dKYwADDZysTeW7Oem6PbgrApJ92MXreBvpd1ASAT5bv4JWvN3Nrl8YAfLBsO28t2spNnZ163LfbePfb7fyuUyMA3l68lY++38H1HRoC8MY3W5j00y56Rzn1K//bxPRVu7m2fQMA/j1/I1/GJnN1u/oA/PPL9Xy9fi9XXVDP+a7MWceSzfvp1daph8+KZ/m2VK48vy4AT8+IJWbnAS5vEwnAY5+tJX53Bt1bO/XDk1ezeW8m3VrVAeChT1exIy2Li1vUBuCBT2JIzsiha3Onvu+jFaRm5tOlWS0A7vrgJzJzC+jUtCYAd773A/mFPjo0rgFA/7HLAfTd03dP3z1998rvu5cYSky9NvruleV3r1EgEV8/xuKCC3ly1iZ99/Tnnqt/7lUNCeTr4u/e5W0iMcYwJzaZ4bPi6dayNvlFPmau3s2zn6+ja/NaZOUVMWXlLp6bs54uTWuQllXApz/u4vkv19OxSU1SDuXy4fc7+Pe8jZxfP5ykAzm8vyyBV77eTPPaVdmZls3Yb7fxn4VbqV8jjO2pmby9aBvvLNlGraohbNmXyZsLt/Du0u2EhwaxKeUwr3+zhQ++205oUAAbUg7xyteb+WT5DgKMIT45gzFfbeLTH3dS5LPE7c7g3/M2MmVFInmFPtYmZTB67gamxSSRlVfEml0HeH7uBmauSuJQTiGrdh1k1Jz1zF6bzIHsfGJ2HmDk7HV8EZdM6uE8Vu48wLOz1zEvLoWUQ7ms2JHO8Fnx/G9dCskZufy0PY2/z4xnwfq9JB3I4cft6Tw9I46FG/exKy2bHxPSeXJ6LN9u3s+OtCyWb0vjiWlr+W5rKtv2Z7E8IY3HPlvD8m1pbNmXybItqTwxbS0/bEtn897DLN7s/Lf6MSGdjSmHWLhxL09Pj+OnHels2HOIBev38rcZcazceYB1yYf4el0Kf5sZx6pdB4nbncH8+BT+PiuO1YkHiE3KYG7cHobPimdt4kHWJh7ki7XJPPP5OuKSMlideJDP1yTz7Ox1xCdnsGrXQWauSmLEnPWsT85g5c4DTI9JYuSc9axPPsSKHelH/9zZuOcQP21PZ8qKXYz6YgOb9h7mx4R0Jv20i+e/2MCWfZn8kJDGpz/u5J9fbmDb/kyWb0tjwvKd/GvuBranZvH9tjQ+/n4HL8zdyM60bJZtSWX8d9sZPW8ju9KyWbollfeXbeff8zeSlJ7Dt1tSeXfpNl6cv5HdB3NYsnk/475NYMz/Nh2t31myjVe/3kLSgWyWbN7P24u38cY3W0gsrt9ctJW3Fm1lV3o2iye9vWfEiBHjOE55PcSpMZBYok4qnneq+ScwxgwFhgKEN2xdNilFRETk3FKYB1MGQdY6qNMfqOJ2IvEjn7Vk5RVyICuf/EIfKRm5bNhziKQDORzOLSR+dwb5RUUkpeeQlpnHok372Lovk+SDOezJyGFaTBJLNqeSkpHDzrRsxn27jRpVQ9h/KJet+zJ5Yd5GqoUEkp6Zz+Z9mTw5fS0hQYEczM5n94Echn68kqCAAA7nFpCWlc/vx36PMYbs/CKy8gq59tUlWAv5RT4KiyyX/usbfPZY/u6jF5b69fQas7hUfc2r35aqe7++rFT9u/+Urm97Z3mpeuB7P5aqh4xfUaoe+klMqTpm54HT1it2lK5/Oq7+cXt6qfqHhNL18uPq77ellaq/21q6XrY19ejnjSmH+XbLsXrLvsxSdUJqFks27z9a70zLZtGmY3XigRy+2bjvaL37YK5TW+cy0eSDuSzctA9rLT4LKRm5LNx4rN57+Fhd5IN9h/cSYAzWWgp9lv+tSyEgoLgusnwVv5fA4rqgyDJ/XQqBAQZfcT0vfk/x+lBQ5GNerLO9s9zH3DinLvI59by4PUfr/CIfX8btIcCUqGOdutDnI7/Qx5y1yaXqz9cU10U+8ot8zFq9G1OinrEq6WhdUKIuKK6nxSQeVycBkF/oo9Bnf1FdVKI+GWOtPeXCX8IY0wL4wlobdZJlXwIvWGuXFdffAE8AVwGh1trni+cPB7KttS+f7ljR0dF25cqVfsktIiLiaVdf7YwLFribozLatxE+uRXys2DgZGh+mduJzknWWnIKisjMKyQrz2nsnM+FpeZl5ReSk19EdvGUW1BEdn4h2flF5BQUkVM85hb4yCsoIrewiIIi//w7NzjQEBwYcHQKCTQEBQYQFGgIDnDGoMAAggIMQQHOukGBprgOILD4c2DAkTHgaH1kCjDOsoAAQ6AxBAZAQPH6AcaZAouXBxgINEc+F69rSq4H5mhdvCzAYIDA4tEcWXZcfXTEYAyY4u2PjlA8/9h2R+YFGAMnLC+xL4Dj6pLrOYudBcfqY+tQYn+U2Ibjti+5LcXbl6xP3LbkEvEKY0yMtTb6+PnldQY2CWhaom4CJBfP73Xc/MXllElERMT7+vd3O0HllPgTTLwdgsJgyFxocMLP3+UXONKEHsgu4EBWPgey849+zsgp4FBOAYdyCziUU8jhPGd06gIO5RZS5DuzRjMsOIAqwYFUDQmiSkggVUMCCQsOpHa1EKrWcj6HBQcSFhRIaHAAYUGBhAUHEBYcSGjQsTE0OICQwEBCggKcKfDIvABCg4qb1KAjDatRgyPiIeXVwM4GHjLGTMZ5iFOGtXaPMeYr4F/GmFrF610LPF1OmURERLzvj390O0Hls+VrmDIYqjeEwTOhVgu3E3lSkc+SlpVH6uF8UjPz2H84j9TMvBKf80nLyj/asOYV+k65ryrBgVSvEkT1sGCqVwkmMjyEVnWrFddBRIQFUy00iPDQQKqFBBEeGkS14ik8NIjwsCCqBgcSEKBGUuRc55cG1hgzCedMaqQxJgnnycLBANbad4C5wPXAViAbGFK8LN0YMwo4csH9c9ba0he/i4iIiPjL2inw+Z+gfnu4czqE13U7kSsKinzsPZTLnozi6WAOezJyScnIZU+G8zk1M4+TnRgNDQqgbkQodSNCaVwzjKhG1alVLYSaVYOpXTWEmlVDqFU1mNrVnM81qgQTEuSXNzeKiPjvHtjypHtgRUTknNGrlzMuXuxmisph+Vvw1d+g5ZXQfyKEVXc7UZmx1pKamc+u9GwS07PZdWRKc8a9h3M5/p+A1UICaVizCg1rhNGwRhj1q4dRNyKUyHBncj6HEB4apEtqRaTMuX0PrIiIiPwad9/tdoKKz1r4ZiQsexUuvBn6vgtBoW6n8ovs/EIS9mexdV8mW/dlsmXfYXYWN6nZ+UWl1m1QPYxmtavSo00kTWpVoVHNMBrUONawRoQFu/SrEBE5c2pgRUREvEwN7NkpKoQv/gKrJ0DXIXDDyxAQ6HaqXywnv4gNKYfYnHK4uFF1GtbdB3OOrhMYYGhepyqtIqtxWetImtV23nHarPjdpmHBFe/XLSJyPDWwIiIiXlZQ4IzBOjv2ixXkwLR7YdOX0PNJ6PV06XdneFRGdgHrkjNYl3yIdckZxCcfImF/5tH7UcOCA2gVGU7X5rXof3FT2tQLp029cFrUqaZ7TUWk0lMDKyIi4mXXXOOMugf2l8k5CJPugF3Loc9L0G2o24lOKregiLWJB1m58wCxSQdZl3yIpAPHzqo2rBFG+0bVub5DQ6IaVeeCBtVpUquKnsYrIucsNbAiIiJedt99bieoeA6nwIR+sH8T9HsPOtzmdqKj9h3OJWbHAVbudKZ1uzMoLD612qJOVTo1rcnAbs2IalSD9o2qUye8ctyrKyLiL2pgRUREvGzQILcTVCxp2+CTWyErFe6cCq2vcjXO7oM5LN28n5+2p7Ny5wF2pWcDzqtoOjWpyR+vbEV081pc1KwWtaqFuJpVRKQiUAMrIiLiZdlOw0PVqu7mqAj2rHXOvPqK4O450LhruUfIyivkh4Q0lm5J5dst+0nYnwVAZHgIXZvXYvClzenaohZRjWroflURkV9BDayIiIiXXX+9M+oe2NPbvtS557VKTRg0A+qeXy6HLfJZ1iVnOA3r5v2s2nWAgiJLWHAAl7aqw53dmnPleZG0qReud6eKiPiBGlgREREve/BBtxN43/rZMP1eqN3KaV5rNC7Tw+UX+liekMb8+BS+Xp9CamY+AO0bVefey1tx5XmRdG1Ri9AgvbZGRMTf1MCKiIh4Wf/+bifwtpgP4YtHoHE0DJwCVWuXyWFyC4r4dvN+5sensGDDXg7lFlItJJDfXFCPq9vV5/LzIonUA5dERMqcGlgREREvy8hwxho13M3hNdbC0jGw8Hk471q4/SMI8e99wpl5hSzauI/58Sks2rSP7PwialQJ5poLG9AnqgGXnxdJWLDOsoqIlCc1sCIiIl52883OqHtgj/H54Kun4cd3oGN/uPktCAz2064tP2xPY9rKJObFp5BTUERkeAi3dGlMn6gGXNqqDsGBeviSiIhb1MCKiIh42Z//7HYCbynMh1kPQvw06P4QXDMKAs6+oUxMz2ZaTBLTVyWRdCCHiNAgbunSmFu7NKZr81oEBugBTCIiXqAGVkRExMv69nU7gXfkZcLUwbBtIVw9Enr8Bc7iyb7Z+YXMi0thWkwSyxPSMAZ6tI7k8evacl37Bro8WETEg9TAioiIeFlqqjNGRrqbw21ZafDp7ZC8Gm56Ey4a/Kt3tXnvYcZ/t4M5a5PJzCukeZ2qPHrN+fTt2oTGNav4MbSIiPibGlgREREvu+02ZzyX74E9mAgT+sLBXdB/Alxwwy/ehc9nWbJlPx8s287SLamEBgVwY6dG3N61CZe0rK13tIqIVBBqYEVERLzs0UfdTuCufRud5jUv03nHa4sev2jznPwipq9KYvx329m2P4t6EaE8fl1b7rikGbWrhZRRaBERKStqYEVERLzsxhvdTuCexBXOZcOBITDkS2jQ4Yw33ZORw8fLd/Lpj7vIyCmgQ+MavNa/M9d3aEhIkJ4iLCJSUamBFRER8bKUFGds0MDdHOVtywLngU3h9WHwTKjd8ow227Y/kzcXbmXO2mR81nJd+wbcc3lLopvX0mXCIiKVgBpYERERLxswwBnPpXtgY6c6r8qpdyEMmg7h9X52k+2pWbzxzRY+X7ObsOBA7rqsBXdf1oKmtauWQ2ARESkvamBFRES87Kmn3E5Qvn74L8x/ClpcAQM+hbDqp119Z1oWb3yzlZmrkwgJCuCPV7Ri6JWtqBMeWk6BRUSkPKmBFRER8bLevd1OUD6shYWjYOnL0O5G6PseBIedcvXE9Gz+s3AL01ftJijAcE+PltzfszV1I9S4iohUZmpgRUREvCwx0RmbNnU3R1kqKoQvH4FVH0PXu+GGVyAg8KSrJh3I5s2FW5kWk0RAgOEP3ZvzYM/W1Kt+6mZXREQqDzWwIiIiXjZ4sDNW1ntgC3Jh+r2w8Qu48gn4zd/gJA9byswr5O1FW3lv6XYA7uzWjAd7taFBDTWuIiLnEjWwIiIiXvaPf7idoOzkZsCkgbBzGfR5Ebrdf8IqPp9l+qokXvxqE/sP59G3S2Meu64tjWpWcSGwiIi4TQ2siIiIl119tdsJysbhvTChH+zfCP3ehw63nbDKyh3pPPfFemKTMujctCbjBnelS7NaLoQVERGvUAMrIiLiZQkJztiqlbs5/Ck9AT65FTL3w8Ap0Oa3pRbvPpjD6HkbmbM2mfrVQ3m1fydu7tSYgAC9x1VE5FxXaRrYgoICkpKSyM3NdTtKhRAWFkaTJk0IDg52O4qIiJzOPfc4Y2W5B3ZPrHPm1VcId82GJtFHF+XkF/HOkm2M/XYb1sKfr2rDA71aUzWk0vxzRUREzlKl+RshKSmJiIgIWrRogTnJwx/kGGstaWlpJCUl0bJlS7fjiIjI6Ywc6XYC/9mxDCbdAaHV4e4voG7bo4sWbdrHP2bGs/tgDr/r2JCn+lxAk1pVXQwrIiJeVGka2NzcXDWvZ8gYQ506ddi/f7/bUURE5Of07Ol2Av/YMAem3Qu1WsDgGVCjCQDpWfmM+mI9M1fvpk29cKbe351LWtZ2N6uIiHhWpWlgATWvv4B+r0REKohNm5yxbdvTr+dlMR/BFw9D464wcCpUrY21ltlrkxk5Zz2Hcgr482/PY9hvWhMadPL3v4qIiEAla2BFREQqnfuLXy1TEe+BtRaWvQLfPAdtrobffwwh1Ug+mMPwWfF8s3EfnZrU4N9/7MYFDaq7nVZERCoAvzSwxpjewOtAIPCetXb0cctfBX5TXFYF6llraxYvKwLiipftstbe5I9MIiIilcK//uV2gl/H54Ov/gY//hc6/B5ueRufCWLiDzv597yNFPp8/OOGdgzp0ZJAPV1YRETO0Fk3sMaYQOAt4BogCVhhjJltrV1/ZB1r7SMl1v8/oEuJXeRYazufbQ6vSEpK4rvvvqN///5uR/FUFhER+ZUuu8ztBL9cYT58/ieI+wwu/RNc+08S0rJ5avpKftqRTo82dXjh1o40q6OHNImIyC8T4Id9XAJstdYmWGvzgcnAzadZ/w5gkh+O60nffPMNq1atcjsG4K0sIiLyK8XHO1NFkZ8Fk+9wmtffPou99p988lMifV5fysaUQ7x4W0cm3NtNzauIiPwq/mhgGwOJJeqk4nknMMY0B1oCC0vMDjPGrDTG/GCMueVUBzHGDC1eb6VXn567bNky/vrXvzJt2jQ6d+7MSy+9xKWXXkqnTp24/PLLSz3199Zbb+Uf//gHV1xxBQ0aNGDBggUAbNiwgSuvvJKOHTvy0ksv0aZNGwC2b9/OzTffTHR0NJdccgmbih/qcar9HJ9l+/bt5fy7ISIifvHQQ85UEWSnw0c3wbaFcOMbpHUZxh8/WcXwWfF0a1WHBX/tye+jm+pBgiIi8qv54x7Yk/0tZE+x7gBgmrW2qMS8ZtbaZGNMK2ChMSbOWrvthB1aOw4YBxAdHX2q/TvmPQUpcadd5Rdr0AH6jD7tKpdffjkXX3wxY8aMISoqirS0NB5//HEARo4cydSpUxk2bBgA8fHx9OjRg6VLlzJjxgwmTpxIr169uPPOO3n//ffp0qULDz74IFFRURQUFHDfffcxbtw4Wrduzdy5cxk9ejTjx48/6X6uvvrqE7KIiEgF9dJLbic4MxlJ8ElfOLADfv8JS4O68dfXl5KRXcDw313IkMtaEKB7XUVE5Cz5o4FNApqWqJsAyadYdwAwrOQMa21y8ZhgjFmMc3/sCQ1sRbFp0ybaFr/q4MMPP2TKlCnk5eWRkpLCv4ofxJGdnU1GRgaPPOLcGlxYWEjNmjWZMWMGnTp1oksX5xbhCy+8kHr16jFr1izWrVtHv379jq5/xRVXnHI/J8siIiIV1MUXu53g5+3fBJ/cCnmHyR84jRc3RPLesp84r144Hw25hAsb6QnDIiLiH/5oYFcA5xljWgK7cZrUgcevZIxpC9QClpeYVwvIttbmGWMigR7Ai2ed6GfOlJaVtLQ0atSoQXBwMB9//DE//fQTCxcuJDw8nCuvvJL27dsDsG7dOrp27UpgoPOuu9jYWKKiooiNjaVz52PPs4qPj6d3797ExMTwz3/+k3vvvbfU8VasWHHS/RyfRUREKrA1a5yxs0efd5i0EibeBgHB7Lr5Mx74ooD1e7Yz+NLm/P2GdoQF672uIiLiP2d9D6y1thB4CPgK2ABMtdauM8Y8Z4wp+UqcO4DJ1tqSl/+2A1YaY9YCi4DRJZ9eXNFs376dRo0aARAXF8dll11GeHg406dP5/vvv6dDhw6A05iWbFRjY2Pp2LEjderUYfPmzQCsWbOGCRMm0KlTJxo2bMhXX32Fz+c7um9r7Sn3c3wWERGpwB5+2Jm8aOsC+GIbFEgAACAASURBVOhGbFhNZnUdz7WTDpByKJf3/hDNqFui1LyKiIjf+eU9sNbaucDc4+Y9c1w94iTbfQ908EcGL7jgggtITU0lKiqKt99+myFDhjBt2jSuv/56WrVqRbVq1QCnAe3WrdvR7eLj44mKiqJly5bccMMNXHzxxXTv3p0WLVrQqlUr7rnnHhYtWkS7du2oUqUKUVFRTJgw4ZT7OT7LuHHjuKwivoZBRETgtdfcTnBycdNg5v0URbbjybBnmPa/DK44L5KXb+9EvephbqcTEZFKypQ+IVoxREdH25UrV5aat2HDBtq1a+dSIv/IzMwkPDwcgJdeeomMjAyef/75MjteZfg9ExERF/zwDsx/kqyGl3J7xv+x+WAAT/W5gHt6tNSDmkRExC+MMTHW2ujj5/vlDKz4x6uvvsrkyZMJDg6mR48evPLKK25HEhERt61Y4YxeeJiTtbDweVg6ht0NrqZP0h+oUiWMKfdfRNfmtd1OJyIi5wA1sB4yfPhwhg8f7nYMERHxkuLXsbF4sasx8BXBF4/Aqo9YUedG+u/ozyWtIvnPHRdRNyLU3WwiInLOUAMrIiLiZW++6XYCKMiFGffBhjlMrdqfJ3bfxP1Xtubx69oSFHjWz4MUERE5Y2pgRUREvKz44Xyuyc2AyXfCjqW8ZIbwUVYf3hnUkd5RDd3NJSIi5yQ1sCIiIl72/ffO6MbT5DP3YSf0xbd3PY8WDGNdnev4fHBXWtcNL/8sIiIiqIEVERHxtr/9zRnL+x7Y9O34Pr6Vgow9DM17jOod+jCrbweqheqfDiIi4h79LSQiIuJlY8eW/zFT4ij6uC9ZOTncnf93fnf9jQzp0QJj9IocERFxlxpYERERL2vbtnyPt2MZhRMHkFoQwv2M5LG7b+KK8+qWbwYREZFTUAMrIiLiZUuWOGPPnmV/rI1fUjT1bnYWRfJ0ted4ZUgf3e8qIiKeogZWRETEy5591hnL+B5YX8zHMOcvxPpa8U7jFxg3uBc1q4aU6TFFRER+KTWwfjZ27FhWr17NO++843YUERGpDD74oGz3by15S14mdPEolhR1ZHHnl3nzlmiC9X5XERHxIDWwfhYbG0uHDh3cjiEiIpVFq1Zlt2+fj8OznyRizTg+L+rB4d6v82yP88rueCIiImdJP171s7i4ODp27Oh2DBERqSwWLHAmfysqIG3CECLWjGMCfag9eDyD1LyKiIjHVd4Gtlcv+PBD53NBgVNPmODU2dlOPWWKU2dkOPWMGU6dmurUc+Y4dUrKGR82Pj5eZ2BFRMR/nn/emfwpP4u9426lTsIs3g2+k0sffJcrzq/v32OIiIiUAV1C7EeJiYmEh4dTs2ZNt6OIiEhl8cknft2dzU5n3zs3EZkRzzs1/syAB4brYU0iIlJhVN4GtuTTGoODS9dVq5aua9QoXUdGlq4bNDijQx65/3X//v088cQTjBo1imeeeYaxY8cSHBz8y38NIiIiTZv6bVdFB5NIe+cGaubs5v1GI7n7nocICw702/5FRETKWuVtYF1w5P7XunXr0qxZMx599FHef/99Na8iIvLrzZ/vjL17n9VucpLXk/3+TVQpzGRau9e47/d3EhBg/BBQRESk/KiB9aO4uDhuuOEGMjMzSUhIICgoiPBwvQBeRETOwujRzngWDeyBzcsJnPR7fD7DksvGc+d1ffwUTkREpHypgfWjiRMnUlhYyNChQ3n++eeZOnUqixcvplevXm5HExGRimry5LPaPDnmS2rOuYdUW52d10/kd90u8VMwERGR8qcG1s+CgoL4oPil848//rjLaUREpMI7w+cwnEzCwg9p+u1fSaApBQOnckXbtn4MJiIiUv7UwIqIiHjZkVe63XjjL9ps3cwXabfmX8QFXkjt+6bTtFHDMggnIiJSvtTAioiIeNnLLzvjmTaw1rLm4yfovH0cP4Z15/wHp1CrZo2yyyciIlKO1MCKiIh42bRpZ7yqLSpk7dj76LxvJksj+nDxQx8RFhpahuFERETKlxpYERERL4uMPKPVCvOyWf/WADofWsKiuoO54v7XCQrSO15FRKRyUQMrIiLiZTNmOGPfvqdcJefwAXa8dQsdc9ewuOUj9PrDsxijd7yKiEjlowZWRETEy954wxlP0cAe3JdE+ribaFOwg2WdXqBX3z+VYzgREZHypQZWRETEyz7//JSL9u7cSMFHt9CwKI21l/+Xy6/pX47BREREyp8aWBERES+rcfInCO9Y/yPhU39PmC1g2/WfEt3tmnIOJiIiUv7UwIqIiHjZlCnO2P/Y2dUNP86n8bwh5FCFjP7Tibow2qVwIiIi5SvA7QCVzdixY3nggQfcjiEiIpXFf//rTMXWfP0pLecO4qCpRdGQ+bRW8yoiIucQvzSwxpjexphNxpitxpinTrL8bmPMfmPMmuLpvhLL7jLGbCme7vJHHjfFxsbSoUMHt2OIiEhlMXeuMwErZrxOh2V/YldwSyL+9A2Nmp/vcjgREZHyddaXEBtjAoG3gGuAJGCFMWa2tXb9catOsdY+dNy2tYFngWjAAjHF2x4421xuiYuLY8CAAW7HEBGRyqJqVazPx48fD+fShDeIrdKV1sNmUC2iptvJREREyp0/zsBeAmy11iZYa/OBycDNZ7jtdcDX1tr04qb1a6C3HzJBr17w4YfO54ICp54wwamzs536yH1FGRlOfeRde6mpTj1njlOnpJzxYePj43UGVkRE/Mb38cdsu+dqLk14g5iIq7jgkblqXkVE5Jzljwa2MZBYok4qnne8fsaYWGPMNGNM01+4bWmbNp3YnGZmOnVRkbO8sNCpCwtL1wUFsHlz6XrLlmN1fj5s3ersByAvz6kPH3bq3Fxnf0eOl5Pj1FlZJCYmEl6tGjX37nWaZICsLGd5To5TZ2Y6dW6uUx8+7NR5eU596JBT5+c7dUaGUxcUOPXBg6XrAwdK//rS0536SP60NKf2+Zw6NdWpj3j3Xbj66mP1229Dnz7H6tdfh5tuOlaPGQP9+h2rR4+GkmecR42CQYOO1c88A0OGHKuffhqGDj1WP/YYDBt2rH74YWc6YtgwZ50jhg519nHEkCHOMY4YNMjJcMSAAU7GI/r1c34NR9x0k/NrPKJPH+f34Iirr3Z+j47w9w9GevWC+fOdOjHRqRcscOqEBKdessSpN21y6u+/d+r4eKdescKp16xx6jVrnHrFCqeOj3fq77936iP//ZcsceqEBKdesMCpE4v/l5w/36mP/ABnzhynTk116hkznDojw6mnTHHqI9/9CROc+sh39cMPnfoIfff03dN3z3Ga715Bfh6FDw2lzczF/Fj3Nro8PI2QBx7Ud0/fPYf+3NN3T989h757lfe7dxL+eAqxOck8e1w9B5hkrc0zxjwAfARcdYbbOgcxZigwFKBjaOjPp5o9G2rXdhq74GDnP0atWs5vbpUq8MUXULOmU0dEwJdfOq8qyM931vvyS6he3Wks69b9+eNRfP9r+/aMnz6dBu3a0fuWW7j3wQd569FHqXJGexAREXFkZx1iy5v96NTGR3L9i7nkwXcxAXr2ooiInNuMtSftF898B8Z0B0ZYa68rrp8GsNa+cIr1A4F0a20NY8wdQC9r7f3Fy8YCi621k053zOjoaLty5cpS8zZs2EC7du3O6tdytkaPHk1GRgb33XcfH3zwAS1btqRp06Zcd911ruY6FS/8nomIyIky0vay552bOS9/IyujhtPt9kfdjiQiIlKujDEx1toTHrXvjx/lrgDOM8a0NMaEAAOA2ccdvGGJ8iZgQ/Hnr4BrjTG1jDG1gGuL51VIcXFxdOjQgdatW7N69WrWrFnj2eZVRES8aW/SNtLfuppW+VuI7f4a3bLqHLuUTURE5Bx31pcQW2sLjTEP4TSegcAH1tp1xpjngJXW2tnAn40xNwGFQDpwd/G26caYUThNMMBz1tr0s83klokTJx79HBQUxDMlr9UXERH5GTs3rSF00m3UtZlsvvZDuvS48di9RHff7WY0ERERT/DHPbBYa+cCc4+b90yJz08DTx+/XfGyD4AP/JHDCzIyMvj73//OXXfdRb169dyOIyIiFcTGmMXUmzMISwApfacT1amHs2DxYldziYiIeIlfGlg5pkaNGrz55ptuxxARkQpk9eIZnL/oATICasKgmbRp3d7tSCIiIp6kxxmKiIi4aPnscbRfdB/7ghoRev8CGh3fvL77bunXO4iIiJzD1MCKiIi4wFrLtxP/RbeYJ0gIa0fdP39DnQbNTlxxypRj7xsUERE5x+kSYhERkXLmK/Lx7buP0ivlA+IietB22GeEVKl28pWPvOxeRERE1MCKiIiUp7z8fH566156ZcxmTZ0b6PjgRwQEBbsdS0REpEJQAysiIlJODmdmsv6tAVyRs5TVze6m892vYgJ+5m6et992xj/9qewDioiIeJzugRURESkH+9NSSXitD91ylhJ74eN0uef1n29eAebMcSYRERHRGVgREZGylrB9O/kf96W9bwfru79Ex95Dz3zjefPKLpiIiEgFowZWRESkDK1eu4baM/vTgnSSen/Ahd1vdTuSiIhIhaVLiP1s7NixDBs2zO0YIiLiAQuXLKLRjFuoRSYZt0+nxa9pXl9/3ZlEREREDay/xcbG0qFDB7djiIiIi6y1zJw1ja4LBxIUGIi5Zz7121/563b2zTfOJCIiIrqE2N/i4uIYOHCg2zFERMQlhUU+Jn0yltu3DycjpAE17/+C0MgWv36Hs2f7LZuIiEhFpwbWz+Lj44mKinI7hoiIuCArr5DJ40ZzV+rL7Au/gAYPzCYgoq7bsURERCqNSnsJcf+xy/lsZSIABUU++o9dzszVSQDk5BfRf+xy5qxNBuBQbgH9xy5nfvweANKz8uk/djkL1u8FYN/h3DM6ZmJiIhEREdSoUePovJycHPr373+0vuWWW87+FyciIp6z73AuU15/nHvTXmJfZDca/flr/zSvY8Y4k4iIiOgMrD+d7P7XtWvX0qVLFwDy8vIIDQ11I5qIiJShTXsyiHn//7in8HP2Nr2eRnd9CEF++vN++XL/7EdERKQSqLQN7JT7ux/9HBwYUKquEhJYqq4eFlyqrl0tpFRdLyLsjI4ZFxd3QgMbExPDxRdffMrlIiJSsS1an0TGlD8x0Cwh9cK7qH/baxDgxwucpk/3375EREQquEp7CbEb4uLiGDduHC1atKBFixZ0796drVu30rx5cwC++OILfvvb37qcUkRE/MFay/jF6/BNGsQtZgmHuz9B5O2v+7d5FRERkVIq7RlYN0ycOPGEeUuWLOGRRx6hRYsW1KpVi+7du59kSxERqUjyC338c/r3/G7dI3QN3EJ+7zFEXPrHsjnY6NHO+NRTZbN/ERGRCkQNbBnr2bMnPXv2dDuGiIj4SXpWPk9/9BWPpDxNm8AU6PchIVFl+IC+NWvKbt8iIiIVjBpYERGRM7R572FGjJ/FizkjaBCSTdDA6dCqjH9IOXly2e5fRESkAlEDKyIicgYWbdzHO5Om8Y55gfAqwQT9YS406uJ2LBERkXOKGlgREZHTsNby/rLtLJk3lfEhrxFSPZKguz6HOq3LJ8CoUc44fHj5HE9ERMTD1MCKiIicQnZ+IU/PiKMwdgbjQ94moO75BAyeAdUbll+ITZvK71giIiIepwZWRETkJBL2Z/LghFVckjqD50I+hKaXYgZOhio1yzfIhAnlezwREREPUwMrIiJynPnxKTz+2RqGmWk8EPwZnN8Hbh8PwVXcjiYiInJOUwMrIiJSrLDIx5j/bWbcki28WXMS1+d+CZ3vhBvfgECX/sp85hlnfO45d44vIiLiIWpgRUREgNTMPP7v09XEJKQwq/5HdMxYCD3+AlePBGPcC5aY6N6xRUREPEYNrIiInPNW7TrAnyasIj87g6VNxlI/9Qe4ZhT0+LPb0WD8eLcTiIiIeEaA2wEqm7FjxzJs2DC3Y4iIyBmw1vLx8h30H7ucuoGH+K7BK9RPWwG3/NcbzauIiIiUojOwfhYbG0uHDh3cjiEiIj/jQFY+T82I5at1e7m9tY/R2aMIPJgMAz6Ftr3djnfM00874wsvuJtDRETEA9TA+llcXBwDBw50O4aIiJzGd1tT+evUNaRn5TPmyiD6bfgLpiAb/jALml3qdrzS0tLcTiAiIuIZlbaB7T92+QnzftexIYO7tyAnv4i7x/90wvLbujbh9uimpGfl8+CEmFLLptzf/YyOGx8fT1RU1K8LLSIiZSq/0MfL/9vEuKUJtIqsxqTroNXX90BwVRgyH+pf6HbEE40b53YCERERz/DLPbDGmN7GmE3GmK3GmKdOsvyvxpj1xphYY8w3xpjmJZYVGWPWFE+z/ZHHLYmJiURERFCjRo1S82+88UaXEomIyBHb9mfS97/fMfbbBO64pBlze2fTat6dUK0u3POVN5tXERERKeWsz8AaYwKBt4BrgCRghTFmtrV2fYnVVgPR1tpsY8yDwItA/+JlOdbazmeb43inO2NaJSTwtMtrVws54zOuJZ3s/tcdO3bQokWLX7wvERHxD2stk1ck8tyc9YQFBzB2cFeuK1gI0x6Chh3hzmlQLdLtmKf22GPOOGaMuzlEREQ8wB+XEF8CbLXWJgAYYyYDNwNHG1hr7aIS6/8ADPLDcT0nLi7uhAZ21apVXHTRRS4lEhE5t5V8UFOPNnV45fedqR83Dr4eDi17woCJEBrhdszTy8lxO4GIiIhn+KOBbQyUfMt6EtDtNOvfC8wrUYcZY1YChcBoa+2sk21kjBkKDAVo1qzZWQUuK3FxccyfP59JkyYB0LBhQ6666ir69+//M1uKiIi/LVi/l7/PiiM9K5+/XX8B9/VoScA3z8L3b0D7W+HWsRAU6nbMn/fWW24nEBER8Qx/NLDmJPPsSVc0ZhAQDfQsMbuZtTbZGNMKWGiMibPWbjthh9aOA8YBREdHn3T/bps4ceIJ8/r06UNaWhpBQUHcfvvt9OzZ8yRbioiIv6Rm5jFi9jq+iN1D2/oRvH/XxUQ1qAZzHoI1E+Hi+6DPixAQ6HZUERER+YX80cAmAU1L1E2A5ONXMsZcDfwd6GmtzTsy31qbXDwmGGMWA12AExrYimrevHk/v5KIiJw1ay0zV+/muS/Wk51XxF+vOZ8HerYmxJcLU+6EzfOh19PQ80kwJ/vZq0c9/LAzvvaauzlEREQ8wB8N7ArgPGNMS2A3MAAo9SJUY0wXYCzQ21q7r8T8WkC2tTbPGBMJ9MB5wJOIiMgZSzqQzd9mxvPt5v1c1Kwm/+7XkfPqR0DOAZh0B+z6Aa4fA5f80e2oIiIichbOuoG11hYaYx4CvgICgQ+steuMMc8BK621s4GXgHDgM+P81HuXtfYmoB0w1hjjw3mlz+jjnl4sIiJySkU+y8fLd/DSV5sAGHHjhQzu3oLAAAOH9sCEfpC6GW77AKL6uhv219KZVxERkaP8cQYWa+1cYO5x854p8fnqU2z3PdDhZMtEREROZ8vewzwxPZbVuw7S8/y6/PPWKJrUquosTN0KE26F7HS48zNo/Rt3w4qIiIhf+KWBFRERKS+Hcgt4c+FWxn+3nfDQIF7t34lbOjfGHLmvNXk1TLgNsHDXHGhcwV9lNmyYM+ppxCIiIpWrgbXWHvsHjJyWtZ58kLOIyCkV+SxTVyby8v82kZaVz20XNeHJPhcQGV7iVTgJS2DyQKhSGwbPhMg27gX2lypV3E4gIiLiGZWmgQ0LCyMtLY06deqoif0Z1lrS0tIICwtzO4qIyBn5ISGN5+asZ/2eQ0Q3r8X4uy+hQ5MapVdaNwtm/BHqtIFBM6B6Q3fC+tuYMW4nEBER8YxK08A2adKEpKQk9u/f73aUCiEsLIwmTZq4HUNE5LQS07N5Yd4G5sal0LhmFf5zRxd+17HhiT+oXPEefPkYNO0GAydDlVruBBYREZEyVWka2ODgYFq2bOl2DBER8YOsvELeXryVd5duJ9AY/nrN+Qy9shVhwYGlV7QWlrwIi/8F5/eG28ZDSFV3QpeVoUOdcdw4d3OIiIh4QKVpYEVEpOLLKyxiyopE3ly4lX2H87ilcyOe7HMBDWuc5D5QXxHMexJWvAudBsJNb0BgcPmHLmt16ridQERExDPUwIqIiOvyCouYujKJtxdtZU9GLhe3qMU7g7tyUbNTXApcmAcz74d1M+Gy/4NrRkFlff7BCy+4nUBERMQz1MCKiIhr8gt9TItJ4q1FW9l9MIeuzWvx0m2d6NHmNA/kyzsMUwZBwmK45jno8ZdyzSwiIiLuUQMrIiLlrqDIx4xVSfxn4VaSDuTQuWlN/tW3A1eeF3n6J8lnpcLE22HPWrj5behyZ/mFdsuQIc44fry7OURERDxADayIiJSb/EIfs9bs5s2FW9mVnk3HJjUYdUsUvc6v+/OvQDu4Cz65FTKSYMBEaNunfEK7rWlTtxOIiIh4hhpYEREpc+lZ+Xz6404+Xr6TfYfzaN+oOu/fFc1VF9Q7s3d379vgNK/52TB4FjTvXvahveK559xOICIi4hlqYEVEpMxs3nuY8d9tZ8aq3eQV+rjivEj+fVvHMzvjesSuH+HT30NQGNwzD+q3L9vQIiIi4llqYEVExK98PsuSLfv5YNl2lm5JJTQogL4XNWZIj5acXz/il+1s81cw9S6o3ggGz4RazcsmtJcNGuSMEya4m0NERMQD1MCKiIhfHM4t4PM1yYz/bjvb9mdRLyKUx649n4HdmlO7Wsgv3+GaSfD5MGgQBXdOh/C6/g9dEbRt63YCERERz1ADKyIiv5rPZ/khIY3PYpKYF7+H3AIfHRrX4LX+nbm+Q0NCggJ+3Y6/fxP+93doeSX0nwhh1f0bvCIZPtztBCIiIp6hBlZERH6xxPRsPotJYnpMErsP5hARFkTfi5pwe9cmdG5a88zvbz2etbDgWfjudbjwZuj7LgSF+je8iIiIVFhqYEVE5Ixk5xcyLy6Fz2IS+SEhHWPg8jaRPNG7Lde1b0BYcODZHaCoEOb8BdZMgOh74PoxEHCW+6wMBgxwxsmT3c0hIiLiAWpgRUTklLLyClm8aT/z4vewaOM+svKLaF6nKo9ecz59uzahcc0q/jlQQQ5Muwc2zYWeT0Gvp+DXnsWtbDp3djuBiIiIZ6iBFRGRUjKyC1iwYS/z16Xw7eb95BX6qFMthJs6N+LWLk24uEWtX3+J8MnkHIRJd8Cu5c5Z10v+6L99VwZPPeV2AhEREc9QAysiIqRm5vG/dXuZF7+H5dvSKPRZGlQP445LmtE7qgEXt6hNYEAZnBE9nAKf9IXUzXDb+xDVz//HEBERkUpDDayIyDkov9DHql0HWLplP0u3pBK3OwNroXmdqtx7RUt6t29ApyY1CSiLpvWItG3wyS2QlQZ3ToXWV5XdsSqyfsVN/fTp7uYQERHxADWwIiLnAGstCalZLN3sNKzLE9LIzi8iMMDQpWlNHv7t+Vzbvj4XNIjw7+XBp5K8BibeBtYHd8+Bxl3L/pgVVffubicQERHxDDWwIiKVkLWWnWnZrNx5gBXb01m2NZXdB3MAaFGnKv0uasIV50Vyaes6VA8LLt9wCUtg8p1QpSYMngmR55Xv8Suaxx5zO4GIiIhnqIEVEakE8gt9xCdnELPjACt3phPz/+3deZhddZ3n8fc3taaSVHaykJCwhC2A0ERaxBZbQk9cID0MGMaHDLQyuDQK02qL6DOOdOvg+HTLOPrQMkpDA/0QmmUAW7EJaDczihAwLGExIQJJKitJKkullnvvb/44t4pKKguhQs6pyvv1PIffued3zr2fqhwu+fI7v3Ne28yGbR0ANDfW8t6jx/HZPz6aPzpmPEeMbcov6Av3wz2Xw5ijYf690Dw5vyySJGnAsYCVpAEmpcTrG9tY0rKF51ZlReszKzfTUaoAcMSYJt4/YxynTx/NrGljmHHY8Hd2Lutbtehm+MlfwJR3w8cXQNOYvBMNDOefn7UPPJBvDkmSCsACVpIKrFSu8Mr67SxpaeX5VVtY0tLKC6u3sLW9BEDtkGDm4SO55D3TmDVtNKdPG81hzY05p95FSvBv34FffBNm/AlcdCvU5zgKPNCcc07eCSRJKgwLWEkqgHIlsXJTG0vXbmPZ+m0sW7eNpWu38tKarT0jq411Qzh+YjNzT53MzMkjmTm5mWMnjKCxribn9HtRqcBDX4YnboJTLoa534eagzzndqC76qq8E0iSVBgWsJJ0ELXu6GLFxjZefWM7y9Zt61mWb9hOZ7VQBRg/ooEZhw1n/numMfPwZk6aPJIjxw2jtmZIjun3U6kT/s+n4fl74Mwr4dy/giEDKL8kSSocC1hJOoC6yhXWtLazYmMbr21s4/Xu5Y2sbd3R1bNvBEwZPZRjxg/n/ceO55jxwzn6sOEcM344I5sG+Chlxza4az688ijM/gacdVX2A2v/fehDWfuzn+WbQ5KkArCAlaS3qL2rzPqtHaxubWd16w7WtLbvtN7S2s6GbR2k9OYxdTXBlNFNTB3TxLumjuSIMU3VZRhHjhvG0PoCX/77dm1/I3vG6+rFMPcHcNoleSca2M47L+8EkiQVhgWspENWpZLY0t7Fxu2dbGrrYtP2TjZs62D91o6s3dbBhq1vbtvaUerzHiMaapk0qpGJI4dy/MRmJo1qZNLIRqZWC9VJI4dSU4Q7AB8sm1fAbf8eWlfAvDvg+A/nnWjg++xn804gSVJhWMBKGtAqlcS2zhJb20ts2dGVLd3r7V1s2VGqtl1saqsWqm2dbNreSeuOLipp9+/b3FjLuBENjB/ewAmTm3n/8AbGV19PHNnI5FGNTGhuZETjAL/U90Ba91JWvHZuh/n3wbT35p1IkiQNMgekgI2IOcD/BGqAH6WUrt+lvwH4B+B04A1gXkrp1WrfV4BPAmXg8ymlnx+ITJKKo1JJdJQqtHeVaS+VToKckgAAEiNJREFUae+qrneV2dFZpq2zzI6e9RJtXWXaq9u3d5bZ3lFie0eJbR0ltneW2N5RztY7SrR1lvf5+cPqa2geWseopnpGN9VxwsRmRg+rY3RTPaOa6hkzrLuvnvEjGhg7rL7Yd/YtohVPwB0XQW0D/NlPYeJJeScaPGbPztqFC/PNIUlSAfS7gI2IGuAHwLnASuDJiHggpfRCr90+CWxKKR0TERcD3wbmRcSJwMXATGAysDAijk0p7ftvpNIhIqVEJWWPWamkRKmSsvVKopyytntbudd6qVLZ+XU5a7sqFUrlRKlcoauStaVytl+pUqGrnOgqV+gqVegqV+js3re63lWu0FmqLr3WO0plOnpt6y5YO7qybfsrAobW1dBUX8OwhlqG1dcyvKGW8cMbmD42Wx9WXUY01NI8tJbmxjqah9ZV2+z1iMbagXXn3oFo6cOwYD40T8pGXkdPzzvR4DJvXt4JJEkqjAMxAnsGsCyltBwgIu4E5gK9C9i5wH+rrt8NfD8iorr9zpRSB/D7iFhWfb9f7+0DX1qzlbOuf3SnbTMmDOddU0bRVa5w/+KWPsecOKmZEyc3s6OzzD8/t7pP/8lTRnLshBFsbe/iX5asrW5989rC044YzVHjhrFpeyePvryuz/Gzpo/hiDFNrN/awWNL1+/Ul4AzjxrLpJFDWd26g18vf6PP8e87ZhzjRzSwYmMbi17b1Kf/A8eNZ9TQel7dsJ3FKzb36T/nhAkMb6xl6dptLGlp7dN/7swJDK2r4eU1W3l5zdY+/R86aSK1NUNYsqqV5Ru2Z7l7XVr5kVMmAfDcylZe39i2009XM2QI5544AYBnVmympXXHTu/dUFvD2ceOB+Dp1zexfmvHTv1N9TWcefQ4IPHUa5vY1NbV/dYAjGisZdb00aQEi17bxNb2rp2Ob26s4+QpIwFY9Oom2rvK9L4qdFRTHcdNGEFK8NvXN/UUU937jGmqZ/q4YVRS4pkVm6uXlKaen390Uz2TRjVSSfBiy5ZexyYSMGpoHWOGNVCuVHj1jbZev7esf0S1yOoqJ9Zv64DU3ZP9jhvqhlBXM4SucoUd1dHElGAPV7YedHVDgvrarADsLFcIgggYEhARHD1+OMMbauksV1i7pZ2IYEjAkAia6mu44A+mMLqpjt+t3cqSli0M6dU/JIJrP3I8o4bWs/DFtTy2dAM1Q97sB1jwqTMBuOnfXuGRF9fRVh2ZXb+1g8a6Gm79xBkAfO+Rpdz79Kqdso9uqufv5p8OwLcfeomnd/l3a9LIRm64+DQAvvHgEl6o/vl2O2r8MP77BacA8JV7n2X5+u079Z84uZmvnzcTgKvv/C2rW9t36v+DaaP58pzjAfj0bU+xqa1zp/6zjhnH58+ZAcClNz9Be9fO/+/unBMO44r3Hw3AvB/2/Vr86CmTmH/mdHZ0lrns75/o03/h6VO4aNZUNm7v5DO3P9Wn/5L3TOO8d02mZfMO/suCxX36//MfHcXsEyfwyvptXHvvc336P/fBGbyv7RGW3Hc916WvQ+1MuGs1kH3H/uWc4zh92hieem0j/+Ohl/sc/1/PO5GZk0fyf5du4H89urRP/7cuOJmjxw9n4Qtr+d+PLe/T/915pzJ51FAefKaF2x9/rU//jZeczphh9fzTohXc/dTKPv23/NkZDK2v4bZfv8pPnu3734Vdz73edj33/t+yDTv1H9Bzb+wfZuder3PAc28G75sxjiUtrVz34At9+j33/N7z3PPc89zb2UA+93Z1IArYw4EVvV6vBP5wT/uklEoR0QqMrW5/fJdjD9/dh0TEFcAVAPUTj2HV5p2LpFWbd/DLl9fv7tCe/odfXLvX/oeeX7OX/tVE7FzU9dayuKWnf3e73PfbVUREz2jaru5+aiVDIqjsoX/BEyuy40lUdjOYdecTrxMRPaN0ffp/82Z/uZKg1z1lAvjHan+pXKG8u+Or799ZqlCqVNjpljQR3PP0SgLoKFUo7fIDDAn4ybMtRARtnSVK5Z37W3cED7+wlgjY1l6itMsPuK2jxGNLsy/J1rauN98/suwdXRUWr9hMAJvbOrOfr/sHAyopsWzdNiJge2e5p7/7iR5bO0qs39pBBJTKiUr1TzCq/yxX/0yi12d290UETfW1jBteT0rQ0tre87vp3n/yqKFMHzeMrnKFJ36/sacvqgGOnTCco8cPp62zzGNLN/TkimrG044YzYzDRtC6o7Pn90S1iAzgj48/jOMmjGDNlnYefCb7PXcfG8B/OH0KJ0xq5pX127jryZU92yOy9/jcB4/hhEnNPP3aZm751e8ZUt3e/T79/UK76pwZPV9ob2zr7NN/xvSxDK2v4dmVm2modaR0QKmU4Tc3wsRTIJ0MQ7zsWpIkvbMi7akie6tvEHER8O9SSpdXX88Hzkgpfa7XPkuq+6ysvn6FbKT1OuDXKaXbq9t/DPw0pXTP3j5z1qxZadGiRf3KLUk6ALa/AfXDoK4x7ySD1wc+kLW//GWeKSRJOqgi4qmU0qxdtx+IEdiVwNRer6cAu17D273PyoioBUYCG9/isZKkoho2Nu8Eg99ll+WdQJKkwjgQBeyTwIyIOBJYRXZTpo/vss8DwKVkc1svBB5NKaWIeAD4x4j4W7KbOM0A+l5ULknSocoCVpKkHv0uYKtzWq8Efk72GJ2bU0pLIuI6YFFK6QHgx8Bt1Zs0bSQrcqnudxfZDZ9KwJ97B2JJknrpqt64rs5nDkuS1O85sHlwDqwk6ZDhHFhJ0iHonZwDK0mS3imXX553AkmSCsMCVpKkIrvkkrwTSJJUGD50UZKkImtryxZJkuQIrCRJhfbhD2etc2AlSbKAlSSp0D7zmbwTSJJUGBawkiQV2bx5eSeQJKkwnAMrSVKRtbZmiyRJcgRWkqRCmzs3a50DK0mSBawkSYX2+c/nnUCSpMKwgJUkqcguuCDvBJIkFYZzYCVJKrING7JFkiQ5AitJUqFdeGHWOgdWkiQLWEmSCu0LX8g7gSRJhWEBK0lSkZ13Xt4JJEkqDOfASpJUZGvWZIskSXIEVpKkQrv44qx1DqwkSRawkiQV2jXX5J1AkqTCsICVJKnI5szJO4EkSYXhHFhJkopsxYpskSRJjsBKklRo8+dnrXNgJUmygJUkqdC+9rW8E0iSVBgWsJIkFdns2XknkCSpMJwDK0lSkS1fni2SJMkRWEmSCu0Tn8ha58BKkmQBK0lSoX3jG3knkCSpMCxgJUkqsrPPzjuBJEmF4RxYSZKK7OWXs0WSJDkCK0lSoX3qU1nrHFhJkixgJUkqtG99K+8EkiQVhgWsJElF9t735p1AkqTCcA6sJElF9vzz2SJJkhyBlSSp0K68MmudAytJUv8K2IgYAywApgOvAh9LKW3aZZ9TgRuBZqAMfDOltKDadwtwNtBa3f2ylNLi/mSSJGlQ+c538k4gSVJh9PcS4muAR1JKM4BHqq931Qb8p5TSTGAOcENEjOrV/6WU0qnVxeJVkqTe3v3ubJEkSf0uYOcCt1bXbwX+dNcdUkq/Syktra63AOuA8f38XEmSDg2LF2eLJEnqdwE7IaW0GqDaHra3nSPiDKAeeKXX5m9GxLMR8d2IaNjLsVdExKKIWLR+/fp+xpYkaYC4+upskSRJ+54DGxELgYm76frq/nxQREwCbgMuTSlVqpu/AqwhK2pvAr4MXLe741NKN1X3YdasWWl/PluSpAHrhhvyTiBJUmHss4BNKc3eU19ErI2ISSml1dUCdd0e9msG/hn4Wkrp8V7vvbq62hERfw98cb/SS5I02J16at4JJEkqjP5eQvwAcGl1/VLg/l13iIh64D7gH1JK/7RL36RqG2TzZ33QnSRJvT35ZLZIkqR+Pwf2euCuiPgk8DpwEUBEzAI+nVK6HPgY8H5gbERcVj2u+3E5d0TEeCCAxcCn+5lHkqTB5UtfylqfAytJEpHSwJtOOmvWrLRo0aK8Y0iS9M57vnpx0kkn5ZtDkqSDKCKeSinN2nV7f0dgJUnSO8nCVZKkHv2dAytJkt5Jv/pVtkiSJEdgJUkqtGuvzVrnwEqSZAErSVKh/fCHeSeQJKkwLGAlSSqy447LO4EkSYXhHFhJkorsX/81WyRJkiOwkiQV2te/nrXOgZUkyQJWkqRCu/nmvBNIklQYFrCSJBXZUUflnUCSpMJwDqwkSUW2cGG2SJIkR2AlSSq0v/7rrJ09O98ckiQVgAWsJElFdttteSeQJKkwLGAlSSqyqVPzTiBJUmE4B1aSpCJ76KFskSRJjsBKklRo11+ftXPm5JtDkqQCsICVJKnI7rwz7wSSJBWGBawkSUU2cWLeCSRJKgznwEqSVGQPPpgtkiTJEVhJkgrtb/4ma887L98ckiQVgAWsJElFdvfdeSeQJKkwLGAlSSqycePyTiBJUmE4B1aSpCK7995skSRJjsBKklRo3/te1l5wQb45JEkqAAtYSZKK7P77804gSVJhWMBKklRkI0fmnUCSpMJwDqwkSUW2YEG2SJIkR2AlSSq0G2/M2nnz8s0hSVIBWMBKklRkP/1p3gkkSSoMC1hJkoqsqSnvBJIkFYZzYCVJKrLbb88WSZLkCKwkSYX2ox9l7SWX5JtDkqQC6FcBGxFjgAXAdOBV4GMppU272a8MPFd9+XpK6fzq9iOBO4ExwNPA/JRSZ38ySZI0qDz8cN4JJEkqjP5eQnwN8EhKaQbwSPX17uxIKZ1aXc7vtf3bwHerx28CPtnPPJIkDS51ddkiSZL6XcDOBW6trt8K/OlbPTAiAvggcPfbOV6SpEPCLbdkiyRJ6ncBOyGltBqg2h62h/0aI2JRRDweEd1F6lhgc0qpVH29Eji8n3kkSRpcLGAlSeqxzzmwEbEQmLibrq/ux+cckVJqiYijgEcj4jlgy272S3vJcQVwRfXltoh4eT8+X/tvHLAh7xDSAeC5rMFgHBGexxoM/E7WYOB5fHBM293GfRawKaXZe+qLiLURMSmltDoiJgHr9vAeLdV2eUT8EjgNuAcYFRG11VHYKUDLXnLcBNy0r7w6MCJiUUppVt45pP7yXNZg4HmswcJzWYOB53G++nsJ8QPApdX1S4H7d90hIkZHREN1fRxwFvBCSikBvwAu3NvxkiRJkiRB/wvY64FzI2IpcG71NRExKyKqD67jBGBRRDxDVrBen1J6odr3ZeAvImIZ2ZzYH/czjyRJkiRpkOrXc2BTSm8A5+xm+yLg8ur6r4CT93D8cuCM/mTQO8bLtTVYeC5rMPA81mDhuazBwPM4R5FdyStJkiRJUrH19xJiSZIkSZIOCgtY7VNEfDEiUvUmXNKAEhHfiYiXIuLZiLgvIkblnUnaHxExJyJejohlEXFN3nmk/RURUyPiFxHxYkQsiYir8s4k9UdE1ETEbyPiJ3lnORRZwGqvImIq2Q26Xs87i/Q2PQyclFI6Bfgd8JWc80hvWUTUAD8APgScCPzHiDgx31TSfisBX0gpnQC8B/hzz2MNcFcBL+Yd4lBlAat9+S7wl4CTpTUgpZT+pfqsaYDHyZ45LQ0UZwDLUkrLU0qdwJ3A3JwzSfslpbQ6pfR0dX0r2V/8D883lfT2RMQU4CPAj/a1r94ZFrDao4g4H1iVUnom7yzSAfIJ4Gd5h5D2w+HAil6vV+Jf/DWARcR04DTgN/kmkd62G8gGdyp5BzlU9esxOhr4ImIhMHE3XV8FrgX+5OAmkvbf3s7jlNL91X2+SnYZ2x0HM5vUT7GbbV4RowEpIoYD9wBXp5S25J1H2l8R8VFgXUrpqYj4QN55DlUWsIe4lNLs3W2PiJOBI4FnIgKyyy6fjogzUkprDmJEaZ/2dB53i4hLgY8C5ySfHaaBZSUwtdfrKUBLTlmkty0i6siK1ztSSvfmnUd6m84Czo+IDwONQHNE3J5SuiTnXIcUnwOrtyQiXgVmpZQ25J1F2h8RMQf4W+DslNL6vPNI+yMiasluPnYOsAp4Evh4SmlJrsGk/RDZ/wm/FdiYUro67zzSgVAdgf1iSumjeWc51DgHVtJg931gBPBwRCyOiL/LO5D0VlVvQHYl8HOyG9/cZfGqAegsYD7wwer38OLqCJYk7TdHYCVJkiRJA4IjsJIkSZKkAcECVpIkSZI0IFjASpIkSZIGBAtYSZIkSdKAYAErSZIkSRoQLGAlSZIkSQOCBawkSZIkaUCwgJUkSZIkDQj/H1cOQBsk9i+IAAAAAElFTkSuQmCC\n",
          "text/plain": "<Figure size 1152x432 with 1 Axes>"
         },
         "metadata": {
          "needs_background": "light"
         },
         "output_type": "display_data"
        }
       ]
      }
     },
     "ff1b589551e74eafb1e2e9baa467aa59": {
      "model_module": "@jupyter-widgets/base",
      "model_module_version": "1.2.0",
      "model_name": "LayoutModel",
      "state": {}
     },
     "ff22f53e32bd4497b1f26dc236bfec35": {
      "model_module": "@jupyter-widgets/output",
      "model_module_version": "1.0.0",
      "model_name": "OutputModel",
      "state": {
       "layout": "IPY_MODEL_46c9b1e6ee3741cb99d8bc78555c66e7",
       "outputs": [
        {
         "data": {
          "image/png": "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\n",
          "text/plain": "<Figure size 1152x432 with 1 Axes>"
         },
         "metadata": {
          "needs_background": "light"
         },
         "output_type": "display_data"
        }
       ]
      }
     }
    },
    "version_major": 2,
    "version_minor": 0
   }
  }
 },
 "nbformat": 4,
 "nbformat_minor": 2
}
